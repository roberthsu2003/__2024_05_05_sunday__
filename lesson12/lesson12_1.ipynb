{
 "cells": [
  {
   "cell_type": "code",
   "execution_count": 6,
   "metadata": {},
   "outputs": [],
   "source": [
    "from pydantic import BaseModel,Field,ValidationError,field_validator\n",
    "\n",
    "class Record(BaseModel):\n",
    "    site_name:str = Field(alias='sitename')\n",
    "    county:str\n",
    "    aqi:int\n",
    "    status:str\n",
    "    pm25:float = Field(alias='pm2.5')\n",
    "\n",
    "    @field_validator('pm25',mode='before')\n",
    "    @classmethod\n",
    "    def pm25_to_zero(cls,value:str) -> str:\n",
    "        if value == '':\n",
    "            return '0.0'\n",
    "        else:\n",
    "            return value\n",
    "\n",
    "class Root(BaseModel):\n",
    "    records:list[Record]\n",
    "\n",
    "\n",
    "with open('aqx_p_488.json',encoding='utf-8') as file:\n",
    "    json_content:str = file.read()\n",
    "\n",
    "try:\n",
    "    aqies:Root = Root.model_validate_json(json_content)\n",
    "except ValidationError as error:\n",
    "    print(error)"
   ]
  },
  {
   "cell_type": "code",
   "execution_count": null,
   "metadata": {},
   "outputs": [],
   "source": [
    "all_data= aqies.model_dump() #python的資料結構\n",
    "#aqies.model_dump_json()\n",
    "data_list:list[dict] = all_data['records']\n",
    "for item in data_list:\n",
    "    print(item)"
   ]
  },
  {
   "cell_type": "code",
   "execution_count": 18,
   "metadata": {},
   "outputs": [
    {
     "data": {
      "text/plain": [
       "[2, 4, 6, 8, 10]"
      ]
     },
     "execution_count": 18,
     "metadata": {},
     "output_type": "execute_result"
    }
   ],
   "source": [
    "numbers:list[int] = [1,2,3,4,5,6,7,8,9,10]\n",
    "def is_even(num:int) -> bool | None:\n",
    "   return True if num % 2 == 0 else None\n",
    "        \n",
    "    \n",
    "    \n",
    "list(filter(is_even,numbers))"
   ]
  },
  {
   "cell_type": "code",
   "execution_count": 17,
   "metadata": {},
   "outputs": [
    {
     "data": {
      "text/plain": [
       "2"
      ]
     },
     "execution_count": 17,
     "metadata": {},
     "output_type": "execute_result"
    }
   ],
   "source": [
    "#這個if..else,一行的寫法\n",
    "1 if False else 2"
   ]
  },
  {
   "cell_type": "code",
   "execution_count": 19,
   "metadata": {},
   "outputs": [
    {
     "data": {
      "text/plain": [
       "[2, 4, 6, 8, 10]"
      ]
     },
     "execution_count": 19,
     "metadata": {},
     "output_type": "execute_result"
    }
   ],
   "source": [
    "numbers:list[int] = [1,2,3,4,5,6,7,8,9,10]        \n",
    "    \n",
    "    \n",
    "list(filter(lambda num:True if num % 2 == 0 else None,numbers))"
   ]
  }
 ],
 "metadata": {
  "kernelspec": {
   "display_name": "Python 3",
   "language": "python",
   "name": "python3"
  },
  "language_info": {
   "codemirror_mode": {
    "name": "ipython",
    "version": 3
   },
   "file_extension": ".py",
   "mimetype": "text/x-python",
   "name": "python",
   "nbconvert_exporter": "python",
   "pygments_lexer": "ipython3",
   "version": "3.10.14"
  }
 },
 "nbformat": 4,
 "nbformat_minor": 2
}
