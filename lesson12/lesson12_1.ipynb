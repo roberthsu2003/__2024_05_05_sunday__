{
 "cells": [
  {
   "cell_type": "code",
   "execution_count": 2,
   "metadata": {},
   "outputs": [
    {
     "name": "stdout",
     "output_type": "stream",
     "text": [
      "1 validation error for Root\n",
      "records.946.`pm2.5`\n",
      "  Input should be a valid number, unable to parse string as a number [type=float_parsing, input_value='', input_type=str]\n",
      "    For further information visit https://errors.pydantic.dev/2.7/v/float_parsing\n"
     ]
    }
   ],
   "source": [
    "from pydantic import BaseModel,Field,ValidationError\n",
    "\n",
    "class Record(BaseModel):\n",
    "    site_name:str = Field(alias='sitename')\n",
    "    county:str\n",
    "    aqi:int\n",
    "    status:str\n",
    "    pm25:float = Field(alias='pm2.5')\n",
    "\n",
    "class Root(BaseModel):\n",
    "    records:list[Record]\n",
    "\n",
    "\n",
    "with open('aqx_p_488.json',encoding='utf-8') as file:\n",
    "    json_content:str = file.read()\n",
    "\n",
    "try:\n",
    "    Root.model_validate_json(json_content)\n",
    "except ValidationError as error:\n",
    "    print(error)"
   ]
  }
 ],
 "metadata": {
  "kernelspec": {
   "display_name": "Python 3",
   "language": "python",
   "name": "python3"
  },
  "language_info": {
   "codemirror_mode": {
    "name": "ipython",
    "version": 3
   },
   "file_extension": ".py",
   "mimetype": "text/x-python",
   "name": "python",
   "nbconvert_exporter": "python",
   "pygments_lexer": "ipython3",
   "version": "3.10.14"
  }
 },
 "nbformat": 4,
 "nbformat_minor": 2
}
