{
 "cells": [
  {
   "cell_type": "code",
   "execution_count": 23,
   "metadata": {},
   "outputs": [],
   "source": [
    "from pydantic import BaseModel,Field,ValidationError,field_validator\n",
    "\n",
    "class Record(BaseModel):\n",
    "    site_name:str = Field(alias='sitename')\n",
    "    county:str\n",
    "    aqi:int\n",
    "    status:str\n",
    "    pm25:float = Field(alias='pm2.5')\n",
    "\n",
    "    @field_validator('pm25',mode='before')\n",
    "    @classmethod\n",
    "    def pm25_to_zero(cls,value:str) -> str:\n",
    "        if value == '':\n",
    "            return '0.0'\n",
    "        else:\n",
    "            return value\n",
    "\n",
    "class Root(BaseModel):\n",
    "    records:list[Record]\n",
    "\n",
    "\n",
    "with open('aqx_p_488.json',encoding='utf-8') as file:\n",
    "    json_content:str = file.read()\n",
    "\n",
    "try:\n",
    "    aqies:Root = Root.model_validate_json(json_content)\n",
    "except ValidationError as error:\n",
    "    print(error)"
   ]
  },
  {
   "cell_type": "code",
   "execution_count": 25,
   "metadata": {},
   "outputs": [
    {
     "data": {
      "text/plain": [
       "1000"
      ]
     },
     "execution_count": 25,
     "metadata": {},
     "output_type": "execute_result"
    }
   ],
   "source": [
    "all_data= aqies.model_dump() #python的資料結構\n",
    "#aqies.model_dump_json()\n",
    "data_list:list[dict] = all_data['records']\n",
    "len(data_list)"
   ]
  },
  {
   "cell_type": "code",
   "execution_count": 26,
   "metadata": {},
   "outputs": [
    {
     "data": {
      "text/plain": [
       "[2, 4, 6, 8, 10]"
      ]
     },
     "execution_count": 26,
     "metadata": {},
     "output_type": "execute_result"
    }
   ],
   "source": [
    "numbers:list[int] = [1,2,3,4,5,6,7,8,9,10]\n",
    "def is_even(num:int) -> bool | None:\n",
    "   return True if num % 2 == 0 else None      \n",
    "    \n",
    "    \n",
    "list(filter(is_even,numbers))"
   ]
  },
  {
   "cell_type": "code",
   "execution_count": 17,
   "metadata": {},
   "outputs": [
    {
     "data": {
      "text/plain": [
       "2"
      ]
     },
     "execution_count": 17,
     "metadata": {},
     "output_type": "execute_result"
    }
   ],
   "source": [
    "#這個if..else,一行的寫法\n",
    "1 if False else 2"
   ]
  },
  {
   "cell_type": "code",
   "execution_count": 19,
   "metadata": {},
   "outputs": [
    {
     "data": {
      "text/plain": [
       "[2, 4, 6, 8, 10]"
      ]
     },
     "execution_count": 19,
     "metadata": {},
     "output_type": "execute_result"
    }
   ],
   "source": [
    "numbers:list[int] = [1,2,3,4,5,6,7,8,9,10]      \n",
    "list(filter(lambda num:True if num % 2 == 0 else None,numbers))"
   ]
  },
  {
   "cell_type": "code",
   "execution_count": 27,
   "metadata": {},
   "outputs": [
    {
     "data": {
      "text/plain": [
       "987"
      ]
     },
     "execution_count": 27,
     "metadata": {},
     "output_type": "execute_result"
    }
   ],
   "source": [
    "def myfunction(item:dict) -> bool:\n",
    "    if item['pm25'] == 0.0:\n",
    "        return False\n",
    "    else:\n",
    "        return True\n",
    "    \n",
    "filter_list:list[dict] = list(filter(myfunction,data_list))\n",
    "len(filter_list)"
   ]
  },
  {
   "cell_type": "code",
   "execution_count": 28,
   "metadata": {},
   "outputs": [
    {
     "data": {
      "text/plain": [
       "987"
      ]
     },
     "execution_count": 28,
     "metadata": {},
     "output_type": "execute_result"
    }
   ],
   "source": [
    "    \n",
    "filter_list:list[dict] = list(filter(lambda item:False if item['pm25']==0 else True,data_list))\n",
    "len(filter_list)"
   ]
  },
  {
   "cell_type": "code",
   "execution_count": 30,
   "metadata": {},
   "outputs": [
    {
     "name": "stdout",
     "output_type": "stream",
     "text": [
      "[19, 21, 31, 91, 92]\n",
      "[92, 91, 31, 21, 19]\n"
     ]
    }
   ],
   "source": [
    "numbers:list[int] = [21, 19, 92, 31, 91]\n",
    "#排序\n",
    "print(sorted(numbers))\n",
    "print(sorted(numbers,reverse=True))"
   ]
  },
  {
   "cell_type": "code",
   "execution_count": null,
   "metadata": {},
   "outputs": [],
   "source": [
    "def sorted_function(item:dict):\n",
    "    return item['pm25']\n",
    "\n",
    "sorted_pm25:list[dict] = sorted(filter_list,key=sorted_function)\n",
    "sorted_pm25[0:10]"
   ]
  },
  {
   "cell_type": "code",
   "execution_count": 40,
   "metadata": {},
   "outputs": [
    {
     "data": {
      "text/plain": [
       "[{'site_name': '二林', 'county': '彰化縣', 'aqi': 69, 'status': '普通', 'pm25': 12.0},\n",
       " {'site_name': '二林', 'county': '彰化縣', 'aqi': 71, 'status': '普通', 'pm25': 30.0},\n",
       " {'site_name': '二林', 'county': '彰化縣', 'aqi': 74, 'status': '普通', 'pm25': 31.0},\n",
       " {'site_name': '大城', 'county': '彰化縣', 'aqi': 77, 'status': '普通', 'pm25': 8.0},\n",
       " {'site_name': '馬祖', 'county': '連江縣', 'aqi': 77, 'status': '普通', 'pm25': 8.0},\n",
       " {'site_name': '二林', 'county': '彰化縣', 'aqi': 78, 'status': '普通', 'pm25': 21.0},\n",
       " {'site_name': '二林', 'county': '彰化縣', 'aqi': 80, 'status': '普通', 'pm25': 36.0},\n",
       " {'site_name': '二林', 'county': '彰化縣', 'aqi': 81, 'status': '普通', 'pm25': 23.0},\n",
       " {'site_name': '二林', 'county': '彰化縣', 'aqi': 83, 'status': '普通', 'pm25': 29.0},\n",
       " {'site_name': '朴子',\n",
       "  'county': '嘉義縣',\n",
       "  'aqi': 106,\n",
       "  'status': '對敏感族群不健康',\n",
       "  'pm25': 9.0}]"
      ]
     },
     "execution_count": 40,
     "metadata": {},
     "output_type": "execute_result"
    }
   ],
   "source": [
    "sorted_aqi:list[dict] = sorted(filter_list,key=lambda item:item['aqi'])\n",
    "sorted_aqi[:10]\n",
    "sorted_aqi[-10:]"
   ]
  }
 ],
 "metadata": {
  "kernelspec": {
   "display_name": "Python 3",
   "language": "python",
   "name": "python3"
  },
  "language_info": {
   "codemirror_mode": {
    "name": "ipython",
    "version": 3
   },
   "file_extension": ".py",
   "mimetype": "text/x-python",
   "name": "python",
   "nbconvert_exporter": "python",
   "pygments_lexer": "ipython3",
   "version": "3.10.14"
  }
 },
 "nbformat": 4,
 "nbformat_minor": 2
}
