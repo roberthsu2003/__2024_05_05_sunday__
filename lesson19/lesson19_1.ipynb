{
 "cells": [
  {
   "cell_type": "code",
   "execution_count": 3,
   "metadata": {},
   "outputs": [
    {
     "name": "stdout",
     "output_type": "stream",
     "text": [
      "<class 'pandas.core.frame.DataFrame'>\n",
      "RangeIndex: 86932 entries, 0 to 86931\n",
      "Data columns (total 4 columns):\n",
      " #   Column  Non-Null Count  Dtype\n",
      "---  ------  --------------  -----\n",
      " 0   日期      86932 non-null  int64\n",
      " 1   車站代碼    86932 non-null  int64\n",
      " 2   進站人數    86932 non-null  int64\n",
      " 3   出站人數    86932 non-null  int64\n",
      "dtypes: int64(4)\n",
      "memory usage: 2.7 MB\n"
     ]
    }
   ],
   "source": [
    "import pandas as pd\n",
    "\n",
    "df1 = pd.read_csv('每日各站進出站人數/每日各站進出站人數2020.csv')\n",
    "df2 = df1.rename(columns={'trnOpDate':'日期',\n",
    "                    'staCode':'車站代碼',\n",
    "                    'gateInComingCnt':'進站人數',\n",
    "                    'gateOutGoingCnt':'出站人數'})\n",
    "df2.info()"
   ]
  }
 ],
 "metadata": {
  "kernelspec": {
   "display_name": "Python 3",
   "language": "python",
   "name": "python3"
  },
  "language_info": {
   "codemirror_mode": {
    "name": "ipython",
    "version": 3
   },
   "file_extension": ".py",
   "mimetype": "text/x-python",
   "name": "python",
   "nbconvert_exporter": "python",
   "pygments_lexer": "ipython3",
   "version": "3.10.14"
  }
 },
 "nbformat": 4,
 "nbformat_minor": 2
}
