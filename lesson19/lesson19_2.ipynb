{
 "cells": [
  {
   "cell_type": "code",
   "execution_count": null,
   "metadata": {},
   "outputs": [],
   "source": [
    "import pandas as pd\n",
    "import json\n",
    "\n",
    "def merge(filename:str,station_name:pd.DataFrame) -> pd.DataFrame:\n",
    "    df1 = pd.read_csv(filename)\n",
    "    df2 = df1.rename(columns={'trnOpDate':'日期',\n",
    "                    'staCode':'車站代碼',\n",
    "                    'gateInComingCnt':'進站人數',\n",
    "                    'gateOutGoingCnt':'出站人數'})\n",
    "    df2['日期'] = pd.to_datetime(df2['日期'].astype(str))\n",
    "    result_df = pd.merge(df2,station_name,left_on='車站代碼',right_on='編碼',how='left')\n",
    "    return result_df\n",
    "\n",
    "with open('每日各站進出站人數/車站基本資料集.json',encoding='utf-8') as file:\n",
    "    json_data:list[dict] = json.load(file)\n",
    "\n",
    "stations_name = pd.DataFrame(json_data,columns=['stationCode','stationName','stationAddrTw'])\n",
    "stations_name1 = stations_name.rename(columns={'stationCode':'編碼',\n",
    "                      'stationName':'車站名稱',\n",
    "                      'stationAddrTw':'地址'})\n",
    "stations_name1['編碼'] = stations_name1['編碼'].astype(int)\n",
    "\n"
   ]
  },
  {
   "cell_type": "code",
   "execution_count": 28,
   "metadata": {},
   "outputs": [],
   "source": [
    "import os\n",
    "current_path = os.path.abspath(__name__) #目前執行檔案的絕對路徑\n",
    "main_path = os.path.dirname(current_path) #取得目前執行的目錄的絕對路徑\n",
    "\n",
    "'每日各站進出站人數'\n",
    "dataFolder_path = os.path.join(main_path,'每日各站進出站人數') #取得放資料的目錄\n",
    "filenames = os.listdir(dataFolder_path) #取得資料目錄的檔案名稱\n",
    "names = list(filter(lambda name: '每日各站進出站人數' in name,filenames)) #lambda\n",
    "abs_names = [os.path.join(dataFolder_path,name) for name in names] #list comprehension\n",
    "all_data = [merge(filename=abs_n,station_name=stations_name1) for abs_n in abs_names] #list comprehension\n",
    "result = pd.concat(all_data,ignore_index=True)\n",
    "result1 = result.set_index('日期')\n",
    "result2 = result1.sort_index().reindex(columns=['車站名稱','地址','進站人數','出站人數'])\n",
    "result2.to_csv(\"2019~2023進出站人口數.csv\")   \n",
    "\n"
   ]
  }
 ],
 "metadata": {
  "kernelspec": {
   "display_name": "Python 3",
   "language": "python",
   "name": "python3"
  },
  "language_info": {
   "codemirror_mode": {
    "name": "ipython",
    "version": 3
   },
   "file_extension": ".py",
   "mimetype": "text/x-python",
   "name": "python",
   "nbconvert_exporter": "python",
   "pygments_lexer": "ipython3",
   "version": "3.10.14"
  }
 },
 "nbformat": 4,
 "nbformat_minor": 2
}
