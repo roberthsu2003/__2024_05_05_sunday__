{
 "cells": [
  {
   "cell_type": "code",
   "execution_count": 1,
   "metadata": {},
   "outputs": [
    {
     "name": "stderr",
     "output_type": "stream",
     "text": [
      "[*********************100%%**********************]  1 of 1 completed\n",
      "[*********************100%%**********************]  1 of 1 completed"
     ]
    },
    {
     "name": "stdout",
     "output_type": "stream",
     "text": [
      "yfinance: pandas_datareader support is deprecated & semi-broken so will be removed in a future verison. Just use yfinance.\n"
     ]
    },
    {
     "name": "stderr",
     "output_type": "stream",
     "text": [
      "\n",
      "[*********************100%%**********************]  1 of 1 completed\n",
      "[*********************100%%**********************]  1 of 1 completed\n"
     ]
    },
    {
     "data": {
      "text/html": [
       "<div>\n",
       "<style scoped>\n",
       "    .dataframe tbody tr th:only-of-type {\n",
       "        vertical-align: middle;\n",
       "    }\n",
       "\n",
       "    .dataframe tbody tr th {\n",
       "        vertical-align: top;\n",
       "    }\n",
       "\n",
       "    .dataframe thead th {\n",
       "        text-align: right;\n",
       "    }\n",
       "</style>\n",
       "<table border=\"1\" class=\"dataframe\">\n",
       "  <thead>\n",
       "    <tr style=\"text-align: right;\">\n",
       "      <th></th>\n",
       "      <th>台積電</th>\n",
       "      <th>聯電</th>\n",
       "      <th>聯發科</th>\n",
       "      <th>鴻海</th>\n",
       "    </tr>\n",
       "  </thead>\n",
       "  <tbody>\n",
       "    <tr>\n",
       "      <th>平均</th>\n",
       "      <td>762.206925</td>\n",
       "      <td>49.156631</td>\n",
       "      <td>1095.7128</td>\n",
       "      <td>139.620003</td>\n",
       "    </tr>\n",
       "    <tr>\n",
       "      <th>中位數</th>\n",
       "      <td>776.996887</td>\n",
       "      <td>48.97406</td>\n",
       "      <td>1105.545898</td>\n",
       "      <td>142.837509</td>\n",
       "    </tr>\n",
       "    <tr>\n",
       "      <th>最高價</th>\n",
       "      <td>2024-06-19 00:00:00(981.0)</td>\n",
       "      <td>2024-06-21 00:00:00(54.6577033996582)</td>\n",
       "      <td>2024-06-20 00:00:00(1467.538818359375)</td>\n",
       "      <td>2024-06-20 00:00:00(212.0625)</td>\n",
       "    </tr>\n",
       "    <tr>\n",
       "      <th>最低價</th>\n",
       "      <td>2024-01-05 00:00:00(571.115478515625)</td>\n",
       "      <td>2024-02-26 00:00:00(45.469146728515625)</td>\n",
       "      <td>2024-01-17 00:00:00(859.977783203125)</td>\n",
       "      <td>2024-01-17 00:00:00(96.13500213623047)</td>\n",
       "    </tr>\n",
       "  </tbody>\n",
       "</table>\n",
       "</div>"
      ],
      "text/plain": [
       "                                       台積電  \\\n",
       "平均                              762.206925   \n",
       "中位數                             776.996887   \n",
       "最高價             2024-06-19 00:00:00(981.0)   \n",
       "最低價  2024-01-05 00:00:00(571.115478515625)   \n",
       "\n",
       "                                          聯電  \\\n",
       "平均                                 49.156631   \n",
       "中位數                                 48.97406   \n",
       "最高價    2024-06-21 00:00:00(54.6577033996582)   \n",
       "最低價  2024-02-26 00:00:00(45.469146728515625)   \n",
       "\n",
       "                                        聯發科  \\\n",
       "平均                                1095.7128   \n",
       "中位數                             1105.545898   \n",
       "最高價  2024-06-20 00:00:00(1467.538818359375)   \n",
       "最低價   2024-01-17 00:00:00(859.977783203125)   \n",
       "\n",
       "                                         鴻海  \n",
       "平均                               139.620003  \n",
       "中位數                              142.837509  \n",
       "最高價           2024-06-20 00:00:00(212.0625)  \n",
       "最低價  2024-01-17 00:00:00(96.13500213623047)  "
      ]
     },
     "execution_count": 1,
     "metadata": {},
     "output_type": "execute_result"
    }
   ],
   "source": [
    "import pandas as pd \n",
    "import pandas_datareader.data as pdr\n",
    "import yfinance as yf\n",
    "yf.pdr_override()\n",
    "\n",
    "tickers = ['2330.TW', '2303.TW', '2454.TW', '2317.TW']\n",
    "start_date = '2024-01-01'\n",
    "end_date = '2024-06-30'\n",
    "all_data = {ticker: pdr.get_data_yahoo(ticker, start=start_date, end=end_date) for ticker in tickers}\n",
    "all_data\n",
    "\n",
    "df1 = pd.DataFrame({ticker:dataFrame['Adj Close'] for ticker,dataFrame in all_data.items()})\n",
    "df2 = df1.rename(columns={'2330.TW':'台積電','2303.TW':'聯電','2454.TW':'聯發科','2317.TW':'鴻海'})\n",
    "\n",
    "def stocks(s) -> pd.Series: #return series\n",
    " \n",
    "    max_name = s[s == s.max()].index.tolist()[0]    \n",
    "    min_name = s[s == s.min()].index.tolist()[0]   \n",
    "\n",
    "    return pd.Series([s.mean(),s.median(),f'{max_name}({s.max()})',f'{min_name}({s.min()})'],\n",
    "                     index=[\"平均\",\"中位數\",\"最高價\",\"最低價\"])\n",
    "    \n",
    "df2.apply(stocks)"
   ]
  }
 ],
 "metadata": {
  "kernelspec": {
   "display_name": "Python 3",
   "language": "python",
   "name": "python3"
  },
  "language_info": {
   "codemirror_mode": {
    "name": "ipython",
    "version": 3
   },
   "file_extension": ".py",
   "mimetype": "text/x-python",
   "name": "python",
   "nbconvert_exporter": "python",
   "pygments_lexer": "ipython3",
   "version": "3.10.14"
  }
 },
 "nbformat": 4,
 "nbformat_minor": 2
}
