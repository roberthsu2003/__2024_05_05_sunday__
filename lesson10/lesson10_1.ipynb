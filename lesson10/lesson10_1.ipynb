{
 "cells": [
  {
   "cell_type": "code",
   "execution_count": 3,
   "metadata": {},
   "outputs": [
    {
     "name": "stdout",
     "output_type": "stream",
     "text": [
      "False\n"
     ]
    }
   ],
   "source": [
    "file = open(\"names.txt\",encoding='utf-8')\n",
    "print(file.closed)\n",
    "file.close()\n"
   ]
  },
  {
   "cell_type": "code",
   "execution_count": 6,
   "metadata": {},
   "outputs": [
    {
     "data": {
      "text/plain": [
       "'陳怡伶\\n馮芳如\\n蒙淑惠\\n張軒宸\\n陳向愛\\n賴心怡\\n王怡珊\\n林詠斌\\n陳淑娟\\n崔孝憲\\n林希啟\\n楊韋廷\\n陳文賢\\n王士銘\\n賴昌韻\\n黃名明\\n吳麗卿\\n游治旺\\n蔡嘉音\\n黃靜怡\\n黃淑芬\\n龔姵君\\n景歡燦\\n李政成\\n楊綺芬\\n昌嘉洋\\n李慈啟\\n游倫城\\n林淑安\\n蔡士賢\\n林世城\\n林佳蓉\\n柯宜臻\\n傅佳琳\\n林瑞喬\\n林佳慧\\n鍾俞禎\\n劉慧君\\n劉林中\\n林怡偉\\n余丞苓\\n黃佩玲\\n林建宏\\n方雅慧\\n林柏洋\\n郭舜昇\\n艾巧夫\\n童建霖\\n蔡至剛\\n黃心航\\n張凡成\\n郭淑枝\\n黃必琪\\n楊健麟\\n林建勳\\n鄭琇亞\\n王雅琴\\n李美洋\\n楊少亮\\n王泓泰\\n黃江旭\\n王梅劭\\n林佳光\\n盧必妍\\n林思賢\\n鄧哲榮\\n陳家年\\n張俊傑\\n洪阿惠\\n陳彥治\\n盧冠發\\n程玫靖\\n潘俊賢\\n呂傑宣\\n鄭孟芳\\n彭茹靖\\n王孝純\\n吳昕婷\\n朱惠儀\\n盧文啟\\n謝佳穎\\n鄭憲定\\n馮淑芬\\n聶心怡\\n黃志福\\n馬彥文\\n郭淑真\\n吳欣書\\n鄭佳玲\\n黃健發\\n胡姿婷\\n林義皓\\n胡芳瑜\\n楊易政\\n王德城\\n劉依婷\\n吳俐芷\\n黃詩妃\\n柯韋成\\n鄧亭聿\\n王雅慧\\n陳凱翔\\n藍哲嘉\\n趙偉銘\\n張韋成\\n林向鈺\\n周琬婷\\n尚偉倫\\n賴佳雯\\n陳姵彬\\n林群清\\n趙家豪\\n李政白\\n林俊翔\\n李進慧\\n楊韻如\\n藍姿婷\\n劉嘉泰\\n王柏聖\\n孫宜珊\\n戴萱能\\n高士凱\\n楊又源\\n劉昀天\\n王怡君\\n余月修\\n劉萬季\\n陳信宏\\n陳孝邦\\n朱彥志\\n陳奇瑄\\n鄧淑娟\\n陳逸凡\\n張牧聿\\n唐雪豪\\n林康亮\\n黃旻林\\n蕭淑華\\n劉雯芬\\n陳美惠\\n孫火清\\n溫法堯\\n錢欣潔\\n陳倩潔\\n李雅怡\\n白美珍\\n葉志峰\\n黃佩芬\\n黃麗美\\n黃奎紹\\n邱亭君\\n詹忠光\\n戚亨\\n賴又琦\\n林佳人\\n黃善迪\\n賴苑禾\\n溫重意\\n周怡啟\\n王明昇\\n羅佩樺\\n陳家維\\n張莉雯\\n高俊男\\n林冠蕙\\n王品星\\n吳孟穎\\n黃雅慧\\n馮耀中\\n元延辛\\n王坤安\\n陳慧君\\n張伊映\\n林士凱\\n蘇婷婷\\n陳淑萍\\n林玉佩\\n謝貞妃\\n杜儀鳳\\n陳倩妮\\n胡淑貞\\n楊偉翔\\n姜琬婷\\n張雅芬\\n葉祖雄\\n沈心利\\n彭虹屏\\n余宗儒\\n李立偉\\n臧怡君\\n吳振瑋\\n陳建豪\\n蕭怡伶\\n周芷蓁\\n黃偉剛\\n黃婷婷\\n郎慧萍\\n林昱芳\\n趙宛真\\n白世宏\\n杜明延\\n許淑婷\\n林珍旺\\n蔡孟泉\\n吳晴洋\\n游一鈺\\n朱士弘\\n黃政甫\\n游淑惠\\n張婕妤\\n陳逸華\\n張天亨\\n張嘉韋\\n王志謙\\n黎惠雯\\n高信宏\\n梁柏宇\\n林志喜\\n金宜芳\\n簡國瑋\\n林清英\\n黃彥孝\\n鄭奇翰\\n李慶亮\\n李蓉瑞\\n張明惟\\n游詩亞\\n黃嘉琪\\n張家秀\\n吳柏誠\\n陳得映\\n郭致恬\\n林麗萍\\n陳樂紫\\n翁鈺婷\\n蔡世馨\\n楊建安\\n李湘婷\\n鞠冠宇\\n林志成\\n陳信念\\n林益妏\\n蔡偉成\\n王惠皓\\n王筱婷\\n楊火帆\\n陳怡珊\\n張慧君\\n翁羽威\\n羅幸娥\\n陳俊憲\\n洪奎夫\\n翁均安\\n吳明妮\\n高智超\\n王人仰\\n劉旭士\\n蘇凡菁\\n謝哲維\\n彭偉妃\\n劉耿琦\\n黃柏宇\\n李佳彥\\n唐翊修\\n陳建香\\n葉軍仰\\n吳志宣\\n林珈發\\n黃翔杰\\n郭坤花\\n吳淑惠\\n簡美君\\n許芳如\\n謝水儒\\n陳怡容\\n蔡欣汝\\n王良斌\\n周家銘\\n張凱妮\\n鄭淑珍\\n陳嘉淑\\n魏秋萍\\n簡佳樺\\n劉佳佩\\n李彥伸\\n陳筱涵\\n蔡明平\\n王展人\\n方筠紹\\n陳志偉\\n錢佩豪\\n陳冠霞\\n潘英迪\\n陳冠竹\\n李淑芳\\n謝南慧\\n趙家豪\\n龐皓芳\\n張彥博'"
      ]
     },
     "execution_count": 6,
     "metadata": {},
     "output_type": "execute_result"
    }
   ],
   "source": [
    "with open(\"names.txt\",encoding='utf-8') as file:\n",
    "    content:str = file.read()\n",
    "    \n",
    "content"
   ]
  }
 ],
 "metadata": {
  "kernelspec": {
   "display_name": "Python 3",
   "language": "python",
   "name": "python3"
  },
  "language_info": {
   "codemirror_mode": {
    "name": "ipython",
    "version": 3
   },
   "file_extension": ".py",
   "mimetype": "text/x-python",
   "name": "python",
   "nbconvert_exporter": "python",
   "pygments_lexer": "ipython3",
   "version": "3.10.14"
  }
 },
 "nbformat": 4,
 "nbformat_minor": 2
}
