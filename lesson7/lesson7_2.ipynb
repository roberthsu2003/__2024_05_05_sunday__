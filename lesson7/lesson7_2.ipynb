{
 "cells": [
  {
   "cell_type": "code",
   "execution_count": 7,
   "metadata": {},
   "outputs": [
    {
     "name": "stdout",
     "output_type": "stream",
     "text": [
      "===========猜數字遊戲==================\n",
      "\n",
      "猜數字範圍1~10:5\n",
      "猜錯了\n",
      "您已經猜了1次\n",
      "猜數字範圍1~10:3\n",
      "猜錯了\n",
      "您已經猜了2次\n",
      "猜數字範圍1~10:8\n",
      "猜錯了\n",
      "您已經猜了3次\n",
      "猜數字範圍1~10:8\n",
      "猜錯了\n",
      "您已經猜了4次\n",
      "猜數字範圍1~10:1\n",
      "猜錯了\n",
      "您已經猜了5次\n",
      "猜數字範圍1~10:9\n",
      "賓果!猜對了, 答案是:9\n",
      "您猜了6次\n",
      "遊戲結束\n"
     ]
    }
   ],
   "source": [
    "import random\n",
    "import pyinputplus as pypi\n",
    "\n",
    "min:int = 1\n",
    "max:int = 10\n",
    "count:int = 0\n",
    "\n",
    "target:int = random.randint(min,max)\n",
    "print(\"===========猜數字遊戲==================\\n\")\n",
    "while(True):    \n",
    "    keyin:int = pypi.inputInt(f\"猜數字範圍{min}~{max}:\",min=min,max=max)\n",
    "    print(keyin)\n",
    "    count += 1\n",
    "    if keyin == target:\n",
    "        print(f\"賓果!猜對了, 答案是:{keyin}\")\n",
    "        print(f\"您猜了{count}次\")\n",
    "        break\n",
    "    else:\n",
    "        print(\"猜錯了\")\n",
    "        print(f\"您已經猜了{count}次\")\n",
    "        \n",
    "\n",
    "print(\"遊戲結束\")"
   ]
  }
 ],
 "metadata": {
  "kernelspec": {
   "display_name": "Python 3",
   "language": "python",
   "name": "python3"
  },
  "language_info": {
   "codemirror_mode": {
    "name": "ipython",
    "version": 3
   },
   "file_extension": ".py",
   "mimetype": "text/x-python",
   "name": "python",
   "nbconvert_exporter": "python",
   "pygments_lexer": "ipython3",
   "version": "3.10.14"
  }
 },
 "nbformat": 4,
 "nbformat_minor": 2
}
