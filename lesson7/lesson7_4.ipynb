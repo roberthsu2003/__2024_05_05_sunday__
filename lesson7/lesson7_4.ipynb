{
 "cells": [
  {
   "cell_type": "code",
   "execution_count": 1,
   "metadata": {},
   "outputs": [
    {
     "name": "stdout",
     "output_type": "stream",
     "text": [
      "38\n",
      "===========猜數字遊戲==================\n",
      "\n",
      "猜數字範圍1~100:38\n",
      "賓果!猜對了, 答案是:38\n",
      "您猜了1次\n",
      "請問還要繼續嗎?(y,n)4\n",
      "===========猜數字遊戲==================\n",
      "\n",
      "猜數字範圍1~100:4\n",
      "賓果!猜對了, 答案是:4\n",
      "您猜了1次\n",
      "請問還要繼續嗎?(y,n)遊戲結束\n"
     ]
    }
   ],
   "source": [
    "import random\n",
    "import pyinputplus as pypi\n",
    "\n",
    "while(True):\n",
    "    min:int = 1\n",
    "    max:int = 100\n",
    "    count:int = 0\n",
    "\n",
    "    target:int = random.randint(min,max)\n",
    "    print(target)\n",
    "    print(\"===========猜數字遊戲==================\\n\")\n",
    "    while(True):    \n",
    "        keyin:int = pypi.inputInt(f\"猜數字範圍{min}~{max}:\",min=min,max=max)\n",
    "        print(keyin)\n",
    "        count += 1\n",
    "        if keyin == target:\n",
    "            print(f\"賓果!猜對了, 答案是:{keyin}\")\n",
    "            print(f\"您猜了{count}次\")\n",
    "            break\n",
    "        elif(keyin > target):\n",
    "            print(\"再小一點\")\n",
    "            max = keyin - 1\n",
    "            \n",
    "        elif(keyin < target):\n",
    "            print(\"再大一點\")\n",
    "            min = keyin + 1\n",
    "            \n",
    "        print(f\"您已經猜了{count}次\")\n",
    "    play_again:str = pypi.inputYesNo(\"請問還要繼續嗎?(y,n)\")\n",
    "    if play_again == 'no':\n",
    "        break\n",
    "\n",
    "print(\"遊戲結束\")"
   ]
  }
 ],
 "metadata": {
  "kernelspec": {
   "display_name": "Python 3",
   "language": "python",
   "name": "python3"
  },
  "language_info": {
   "codemirror_mode": {
    "name": "ipython",
    "version": 3
   },
   "file_extension": ".py",
   "mimetype": "text/x-python",
   "name": "python",
   "nbconvert_exporter": "python",
   "pygments_lexer": "ipython3",
   "version": "3.10.14"
  }
 },
 "nbformat": 4,
 "nbformat_minor": 2
}
