{
 "cells": [
  {
   "cell_type": "code",
   "execution_count": 2,
   "metadata": {},
   "outputs": [
    {
     "name": "stdout",
     "output_type": "stream",
     "text": [
      "Hello!\n"
     ]
    }
   ],
   "source": [
    "#沒有傳出值\n",
    "def sayHello()->None:\n",
    "    print(\"Hello!\")\n",
    "\n",
    "sayHello()"
   ]
  },
  {
   "cell_type": "code",
   "execution_count": 5,
   "metadata": {},
   "outputs": [
    {
     "name": "stdout",
     "output_type": "stream",
     "text": [
      "0.6731966906783449\n"
     ]
    }
   ],
   "source": [
    "#function有傳出值\n",
    "import random\n",
    "def getRandomNum()->float:\n",
    "    return random.random()\n",
    "\n",
    "n:float = getRandomNum()\n",
    "print(n)"
   ]
  },
  {
   "cell_type": "code",
   "execution_count": 8,
   "metadata": {},
   "outputs": [
    {
     "name": "stdout",
     "output_type": "stream",
     "text": [
      "Hello!Robert\n",
      "Hello!徐國堂\n"
     ]
    }
   ],
   "source": [
    "#一個參數\n",
    "def sayHello(n:str)->None:\n",
    "    name:str = n\n",
    "    print(f\"Hello!{name}\")\n",
    "\n",
    "sayHello(\"Robert\") #引數值\n",
    "sayHello(n=\"徐國堂\") #引數名稱的呼叫"
   ]
  },
  {
   "cell_type": "code",
   "execution_count": 11,
   "metadata": {},
   "outputs": [
    {
     "name": "stdout",
     "output_type": "stream",
     "text": [
      "50\n",
      "50\n"
     ]
    }
   ],
   "source": [
    "#2個參數\n",
    "#傳出值int\n",
    "\n",
    "def multiply(a:int,b:int) -> int:\n",
    "    return a * b\n",
    "\n",
    "print(multiply(5,10))\n",
    "print(multiply(a=5,b=10))"
   ]
  },
  {
   "cell_type": "code",
   "execution_count": 12,
   "metadata": {},
   "outputs": [
    {
     "name": "stdout",
     "output_type": "stream",
     "text": [
      "請輸入查詢數值: 720\n",
      "720的因數: 1 2 3 4 5 6 8 9 10 12 15 16 18 20 24 30 36 40 45 48 60 72 80 90 120 144 180 240 360 720 \n",
      "程式結束\n"
     ]
    }
   ],
   "source": [
    "### 因數查詢\n",
    "\n",
    "import pyinputplus as pypi\n",
    "\n",
    "def get_factor(n:int)->None:\n",
    "    print(f\"{n}的因數: \",end='')\n",
    "    for i in range(1,n+1):\n",
    "        u:int = n%i\n",
    "        if u==0:\n",
    "            print(i ,end=' ')\n",
    "\n",
    "    print()\n",
    "\n",
    "\n",
    "mun:int = pypi.inputInt(\"請輸入查詢數值: \",min=1)\n",
    "print(mun)\n",
    "get_factor(mun)\n",
    "print(\"程式結束\")\n",
    "\n",
    "\n"
   ]
  }
 ],
 "metadata": {
  "kernelspec": {
   "display_name": "Python 3",
   "language": "python",
   "name": "python3"
  },
  "language_info": {
   "codemirror_mode": {
    "name": "ipython",
    "version": 3
   },
   "file_extension": ".py",
   "mimetype": "text/x-python",
   "name": "python",
   "nbconvert_exporter": "python",
   "pygments_lexer": "ipython3",
   "version": "3.10.14"
  }
 },
 "nbformat": 4,
 "nbformat_minor": 2
}
