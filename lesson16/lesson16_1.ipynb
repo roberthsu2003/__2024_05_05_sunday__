{
 "cells": [
  {
   "cell_type": "code",
   "execution_count": null,
   "metadata": {},
   "outputs": [],
   "source": [
    "import numpy as np\n",
    "import pandas as pd\n",
    "students = np.random.randint(50,101,size=(50,5))\n",
    "stu = pd.DataFrame(students,\n",
    "             columns=['國文','英文','數學','地理','歷史'],\n",
    "             index=[f'第{i}號' for i in range(1,51)]\n",
    "             )\n",
    "stu"
   ]
  },
  {
   "cell_type": "code",
   "execution_count": 2,
   "metadata": {},
   "outputs": [
    {
     "data": {
      "text/plain": [
       "Index(['第1號', '第2號', '第3號', '第4號', '第5號', '第6號', '第7號', '第8號', '第9號', '第10號',\n",
       "       '第11號', '第12號', '第13號', '第14號', '第15號', '第16號', '第17號', '第18號', '第19號',\n",
       "       '第20號', '第21號', '第22號', '第23號', '第24號', '第25號', '第26號', '第27號', '第28號',\n",
       "       '第29號', '第30號', '第31號', '第32號', '第33號', '第34號', '第35號', '第36號', '第37號',\n",
       "       '第38號', '第39號', '第40號', '第41號', '第42號', '第43號', '第44號', '第45號', '第46號',\n",
       "       '第47號', '第48號', '第49號', '第50號'],\n",
       "      dtype='object')"
      ]
     },
     "execution_count": 2,
     "metadata": {},
     "output_type": "execute_result"
    }
   ],
   "source": [
    "stu.index"
   ]
  },
  {
   "cell_type": "code",
   "execution_count": 3,
   "metadata": {},
   "outputs": [
    {
     "data": {
      "text/plain": [
       "Index(['國文', '英文', '數學', '地理', '歷史'], dtype='object')"
      ]
     },
     "execution_count": 3,
     "metadata": {},
     "output_type": "execute_result"
    }
   ],
   "source": [
    "stu.columns"
   ]
  }
 ],
 "metadata": {
  "kernelspec": {
   "display_name": "Python 3",
   "language": "python",
   "name": "python3"
  },
  "language_info": {
   "codemirror_mode": {
    "name": "ipython",
    "version": 3
   },
   "file_extension": ".py",
   "mimetype": "text/x-python",
   "name": "python",
   "nbconvert_exporter": "python",
   "pygments_lexer": "ipython3",
   "version": "3.10.14"
  }
 },
 "nbformat": 4,
 "nbformat_minor": 2
}
