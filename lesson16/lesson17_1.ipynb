{
 "cells": [
  {
   "cell_type": "code",
   "execution_count": null,
   "metadata": {},
   "outputs": [],
   "source": [
    "import numpy as np\n",
    "import pandas as pd\n",
    "students = np.random.randint(50,101,size=(50,5))\n",
    "stu = pd.DataFrame(students,\n",
    "             columns=['國文','英文','數學','地理','歷史'],\n",
    "             index=[f'第{i}號' for i in range(1,51)]\n",
    "             )\n",
    "stu"
   ]
  },
  {
   "cell_type": "code",
   "execution_count": null,
   "metadata": {},
   "outputs": [],
   "source": [
    "#陣列運算,使用數學運算子\n",
    "stu['國文'] + stu['數學']"
   ]
  },
  {
   "cell_type": "code",
   "execution_count": null,
   "metadata": {},
   "outputs": [],
   "source": [
    "#陣列運算,使用比較運算子\n",
    "stu['國文'] <= 60"
   ]
  },
  {
   "cell_type": "code",
   "execution_count": null,
   "metadata": {},
   "outputs": [],
   "source": [
    "#Series執行統計的方法\n",
    "stu['國文'].sum()"
   ]
  },
  {
   "cell_type": "code",
   "execution_count": null,
   "metadata": {},
   "outputs": [],
   "source": [
    "#使用numpy統計方法\n",
    "import numpy as np\n",
    "np.sum(stu['國文'])"
   ]
  },
  {
   "cell_type": "code",
   "execution_count": null,
   "metadata": {},
   "outputs": [],
   "source": [
    "#DataFrame執行統計的方法\n",
    "stu\n",
    "stu['總分'] = stu.iloc[:,:5].sum(axis=1)\n",
    "stu['平均'] = stu.iloc[:,:5].mean(axis=1)\n",
    "stu\n"
   ]
  },
  {
   "cell_type": "code",
   "execution_count": null,
   "metadata": {},
   "outputs": [],
   "source": [
    "stu\n",
    "stu['總分'] = np.sum(stu.iloc[:,:5],axis=1)\n",
    "stu['平均'] = np.mean(stu.iloc[:,:5],axis=1)\n",
    "stu"
   ]
  },
  {
   "cell_type": "code",
   "execution_count": null,
   "metadata": {},
   "outputs": [],
   "source": [
    "#使用seires的索引和index name\n",
    "stu['總分'].iloc[0]\n",
    "stu['總分']['第1號']"
   ]
  },
  {
   "cell_type": "code",
   "execution_count": 31,
   "metadata": {},
   "outputs": [],
   "source": [
    "#Series sort\n",
    "stu['總分'].sort_values()\n",
    "sorted_s = stu['總分'].sort_values(ascending=False)\n"
   ]
  },
  {
   "cell_type": "code",
   "execution_count": 32,
   "metadata": {},
   "outputs": [
    {
     "data": {
      "text/plain": [
       "第40號    457\n",
       "第41號    451\n",
       "第15號    435\n",
       "第33號    414\n",
       "第18號    408\n",
       "Name: 總分, dtype: int64"
      ]
     },
     "execution_count": 32,
     "metadata": {},
     "output_type": "execute_result"
    }
   ],
   "source": [
    "#使用sort_values(),取出前5分\n",
    "sorted_s[:5]"
   ]
  },
  {
   "cell_type": "code",
   "execution_count": 36,
   "metadata": {},
   "outputs": [
    {
     "data": {
      "text/html": [
       "<div>\n",
       "<style scoped>\n",
       "    .dataframe tbody tr th:only-of-type {\n",
       "        vertical-align: middle;\n",
       "    }\n",
       "\n",
       "    .dataframe tbody tr th {\n",
       "        vertical-align: top;\n",
       "    }\n",
       "\n",
       "    .dataframe thead th {\n",
       "        text-align: right;\n",
       "    }\n",
       "</style>\n",
       "<table border=\"1\" class=\"dataframe\">\n",
       "  <thead>\n",
       "    <tr style=\"text-align: right;\">\n",
       "      <th></th>\n",
       "      <th>國文</th>\n",
       "      <th>英文</th>\n",
       "      <th>數學</th>\n",
       "      <th>地理</th>\n",
       "      <th>歷史</th>\n",
       "      <th>總分</th>\n",
       "      <th>平均</th>\n",
       "    </tr>\n",
       "  </thead>\n",
       "  <tbody>\n",
       "    <tr>\n",
       "      <th>第40號</th>\n",
       "      <td>92</td>\n",
       "      <td>80</td>\n",
       "      <td>100</td>\n",
       "      <td>92</td>\n",
       "      <td>93</td>\n",
       "      <td>457</td>\n",
       "      <td>91.4</td>\n",
       "    </tr>\n",
       "    <tr>\n",
       "      <th>第41號</th>\n",
       "      <td>73</td>\n",
       "      <td>96</td>\n",
       "      <td>94</td>\n",
       "      <td>91</td>\n",
       "      <td>97</td>\n",
       "      <td>451</td>\n",
       "      <td>90.2</td>\n",
       "    </tr>\n",
       "    <tr>\n",
       "      <th>第15號</th>\n",
       "      <td>98</td>\n",
       "      <td>92</td>\n",
       "      <td>97</td>\n",
       "      <td>89</td>\n",
       "      <td>59</td>\n",
       "      <td>435</td>\n",
       "      <td>87.0</td>\n",
       "    </tr>\n",
       "    <tr>\n",
       "      <th>第33號</th>\n",
       "      <td>95</td>\n",
       "      <td>90</td>\n",
       "      <td>81</td>\n",
       "      <td>84</td>\n",
       "      <td>64</td>\n",
       "      <td>414</td>\n",
       "      <td>82.8</td>\n",
       "    </tr>\n",
       "    <tr>\n",
       "      <th>第18號</th>\n",
       "      <td>98</td>\n",
       "      <td>98</td>\n",
       "      <td>63</td>\n",
       "      <td>60</td>\n",
       "      <td>89</td>\n",
       "      <td>408</td>\n",
       "      <td>81.6</td>\n",
       "    </tr>\n",
       "  </tbody>\n",
       "</table>\n",
       "</div>"
      ],
      "text/plain": [
       "      國文  英文   數學  地理  歷史   總分    平均\n",
       "第40號  92  80  100  92  93  457  91.4\n",
       "第41號  73  96   94  91  97  451  90.2\n",
       "第15號  98  92   97  89  59  435  87.0\n",
       "第33號  95  90   81  84  64  414  82.8\n",
       "第18號  98  98   63  60  89  408  81.6"
      ]
     },
     "execution_count": 36,
     "metadata": {},
     "output_type": "execute_result"
    }
   ],
   "source": [
    "#DataFrame sorted\n",
    "sorted_df = stu.sort_values(by='總分',ascending=False)\n",
    "sorted_df[:5]"
   ]
  }
 ],
 "metadata": {
  "kernelspec": {
   "display_name": "Python 3",
   "language": "python",
   "name": "python3"
  },
  "language_info": {
   "codemirror_mode": {
    "name": "ipython",
    "version": 3
   },
   "file_extension": ".py",
   "mimetype": "text/x-python",
   "name": "python",
   "nbconvert_exporter": "python",
   "pygments_lexer": "ipython3",
   "version": "3.10.14"
  }
 },
 "nbformat": 4,
 "nbformat_minor": 2
}
