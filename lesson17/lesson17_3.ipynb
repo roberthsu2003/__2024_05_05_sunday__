{
 "cells": [
  {
   "cell_type": "code",
   "execution_count": null,
   "metadata": {},
   "outputs": [],
   "source": [
    "import numpy as np\n",
    "import pandas as pd\n",
    "\n",
    "all_data = pd.read_csv('world.csv')\n",
    "all_data.info()"
   ]
  },
  {
   "cell_type": "code",
   "execution_count": 4,
   "metadata": {},
   "outputs": [
    {
     "name": "stdout",
     "output_type": "stream",
     "text": [
      "<class 'pandas.core.frame.DataFrame'>\n",
      "RangeIndex: 187885 entries, 0 to 187884\n",
      "Data columns (total 5 columns):\n",
      " #   Column  Non-Null Count   Dtype \n",
      "---  ------  --------------   ----- \n",
      " 0   洲名      187885 non-null  object\n",
      " 1   國家      187885 non-null  object\n",
      " 2   日期      187885 non-null  object\n",
      " 3   總確診數    187885 non-null  int64 \n",
      " 4   新增確診數   187885 non-null  int64 \n",
      "dtypes: int64(2), object(3)\n",
      "memory usage: 7.2+ MB\n"
     ]
    }
   ],
   "source": [
    "#'洲名','國家','日期','總確診數','新增確診數'\n",
    "df1 = all_data.reindex(columns=['洲名','國家','日期','總確診數','新增確診數'])\n",
    "df1.info()"
   ]
  },
  {
   "cell_type": "code",
   "execution_count": 7,
   "metadata": {},
   "outputs": [
    {
     "name": "stdout",
     "output_type": "stream",
     "text": [
      "<class 'pandas.core.frame.DataFrame'>\n",
      "RangeIndex: 187885 entries, 0 to 187884\n",
      "Data columns (total 5 columns):\n",
      " #   Column  Non-Null Count   Dtype         \n",
      "---  ------  --------------   -----         \n",
      " 0   洲名      187885 non-null  object        \n",
      " 1   國家      187885 non-null  object        \n",
      " 2   日期      187885 non-null  datetime64[ns]\n",
      " 3   總確診數    187885 non-null  int64         \n",
      " 4   新增確診數   187885 non-null  int64         \n",
      "dtypes: datetime64[ns](1), int64(2), object(2)\n",
      "memory usage: 7.2+ MB\n"
     ]
    }
   ],
   "source": [
    "df1['日期'] = pd.to_datetime(df1['日期'])\n",
    "df1.info()"
   ]
  },
  {
   "cell_type": "code",
   "execution_count": 8,
   "metadata": {},
   "outputs": [
    {
     "data": {
      "text/html": [
       "<div>\n",
       "<style scoped>\n",
       "    .dataframe tbody tr th:only-of-type {\n",
       "        vertical-align: middle;\n",
       "    }\n",
       "\n",
       "    .dataframe tbody tr th {\n",
       "        vertical-align: top;\n",
       "    }\n",
       "\n",
       "    .dataframe thead th {\n",
       "        text-align: right;\n",
       "    }\n",
       "</style>\n",
       "<table border=\"1\" class=\"dataframe\">\n",
       "  <thead>\n",
       "    <tr style=\"text-align: right;\">\n",
       "      <th></th>\n",
       "      <th>洲名</th>\n",
       "      <th>國家</th>\n",
       "      <th>日期</th>\n",
       "      <th>總確診數</th>\n",
       "      <th>新增確診數</th>\n",
       "    </tr>\n",
       "  </thead>\n",
       "  <tbody>\n",
       "    <tr>\n",
       "      <th>0</th>\n",
       "      <td>亞洲</td>\n",
       "      <td>阿富汗</td>\n",
       "      <td>2020-02-24</td>\n",
       "      <td>5</td>\n",
       "      <td>5</td>\n",
       "    </tr>\n",
       "    <tr>\n",
       "      <th>1</th>\n",
       "      <td>亞洲</td>\n",
       "      <td>阿富汗</td>\n",
       "      <td>2020-02-25</td>\n",
       "      <td>5</td>\n",
       "      <td>0</td>\n",
       "    </tr>\n",
       "    <tr>\n",
       "      <th>2</th>\n",
       "      <td>亞洲</td>\n",
       "      <td>阿富汗</td>\n",
       "      <td>2020-02-26</td>\n",
       "      <td>5</td>\n",
       "      <td>0</td>\n",
       "    </tr>\n",
       "    <tr>\n",
       "      <th>3</th>\n",
       "      <td>亞洲</td>\n",
       "      <td>阿富汗</td>\n",
       "      <td>2020-02-27</td>\n",
       "      <td>5</td>\n",
       "      <td>0</td>\n",
       "    </tr>\n",
       "    <tr>\n",
       "      <th>4</th>\n",
       "      <td>亞洲</td>\n",
       "      <td>阿富汗</td>\n",
       "      <td>2020-02-28</td>\n",
       "      <td>5</td>\n",
       "      <td>0</td>\n",
       "    </tr>\n",
       "    <tr>\n",
       "      <th>...</th>\n",
       "      <td>...</td>\n",
       "      <td>...</td>\n",
       "      <td>...</td>\n",
       "      <td>...</td>\n",
       "      <td>...</td>\n",
       "    </tr>\n",
       "    <tr>\n",
       "      <th>187880</th>\n",
       "      <td>非洲</td>\n",
       "      <td>辛巴威</td>\n",
       "      <td>2022-07-02</td>\n",
       "      <td>255586</td>\n",
       "      <td>0</td>\n",
       "    </tr>\n",
       "    <tr>\n",
       "      <th>187881</th>\n",
       "      <td>非洲</td>\n",
       "      <td>辛巴威</td>\n",
       "      <td>2022-07-03</td>\n",
       "      <td>255586</td>\n",
       "      <td>0</td>\n",
       "    </tr>\n",
       "    <tr>\n",
       "      <th>187882</th>\n",
       "      <td>非洲</td>\n",
       "      <td>辛巴威</td>\n",
       "      <td>2022-07-04</td>\n",
       "      <td>255726</td>\n",
       "      <td>140</td>\n",
       "    </tr>\n",
       "    <tr>\n",
       "      <th>187883</th>\n",
       "      <td>非洲</td>\n",
       "      <td>辛巴威</td>\n",
       "      <td>2022-07-05</td>\n",
       "      <td>255755</td>\n",
       "      <td>29</td>\n",
       "    </tr>\n",
       "    <tr>\n",
       "      <th>187884</th>\n",
       "      <td>非洲</td>\n",
       "      <td>辛巴威</td>\n",
       "      <td>2022-07-06</td>\n",
       "      <td>255805</td>\n",
       "      <td>50</td>\n",
       "    </tr>\n",
       "  </tbody>\n",
       "</table>\n",
       "<p>187885 rows × 5 columns</p>\n",
       "</div>"
      ],
      "text/plain": [
       "        洲名   國家         日期    總確診數  新增確診數\n",
       "0       亞洲  阿富汗 2020-02-24       5      5\n",
       "1       亞洲  阿富汗 2020-02-25       5      0\n",
       "2       亞洲  阿富汗 2020-02-26       5      0\n",
       "3       亞洲  阿富汗 2020-02-27       5      0\n",
       "4       亞洲  阿富汗 2020-02-28       5      0\n",
       "...     ..  ...        ...     ...    ...\n",
       "187880  非洲  辛巴威 2022-07-02  255586      0\n",
       "187881  非洲  辛巴威 2022-07-03  255586      0\n",
       "187882  非洲  辛巴威 2022-07-04  255726    140\n",
       "187883  非洲  辛巴威 2022-07-05  255755     29\n",
       "187884  非洲  辛巴威 2022-07-06  255805     50\n",
       "\n",
       "[187885 rows x 5 columns]"
      ]
     },
     "execution_count": 8,
     "metadata": {},
     "output_type": "execute_result"
    }
   ],
   "source": [
    "df1"
   ]
  }
 ],
 "metadata": {
  "kernelspec": {
   "display_name": "Python 3",
   "language": "python",
   "name": "python3"
  },
  "language_info": {
   "codemirror_mode": {
    "name": "ipython",
    "version": 3
   },
   "file_extension": ".py",
   "mimetype": "text/x-python",
   "name": "python",
   "nbconvert_exporter": "python",
   "pygments_lexer": "ipython3",
   "version": "3.10.14"
  }
 },
 "nbformat": 4,
 "nbformat_minor": 2
}
