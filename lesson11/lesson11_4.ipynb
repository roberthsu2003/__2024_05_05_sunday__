{
 "cells": [
  {
   "cell_type": "code",
   "execution_count": 8,
   "metadata": {},
   "outputs": [
    {
     "name": "stdout",
     "output_type": "stream",
     "text": [
      "sitename='屏東(枋山)' county='屏東縣' aqi=19\n",
      "{'sitename': '屏東(枋山)', 'county': '屏東縣', 'aqi': 19}\n"
     ]
    }
   ],
   "source": [
    "data_json:str = '''\n",
    "{\n",
    "            \"sitename\": \"屏東(枋山)\",\n",
    "            \"county\": \"屏東縣\",\n",
    "            \"aqi\": \"19\",\n",
    "            \"pollutant\": \"\",\n",
    "            \"status\": \"良好\",\n",
    "            \"so2\": \"0.3\",\n",
    "            \"co\": \"0.14\",\n",
    "            \"o3\": \"36.2\",\n",
    "            \"o3_8hr\": \"21.2\",\n",
    "            \"pm10\": \"20\",\n",
    "            \"pm2.5\": \"5\",\n",
    "            \"no2\": \"0.8\",\n",
    "            \"nox\": \"1.2\",\n",
    "            \"no\": \"0.4\",\n",
    "            \"windspeed\": \"1.4\",\n",
    "            \"winddirec\": \"287\",\n",
    "            \"datacreationdate\": \"2024-06-09 09:00\",\n",
    "            \"unit\": \"\",\n",
    "            \"co_8hr\": \"0.2\",\n",
    "            \"pm2.5_avg\": \"4.5\",\n",
    "            \"pm10_avg\": \"17\",\n",
    "            \"so2_avg\": \"0\",\n",
    "            \"longitude\": \"120.651472\",\n",
    "            \"latitude\": \"22.260899\",\n",
    "            \"siteid\": \"313\"\n",
    "        }\n",
    "'''\n",
    "\n",
    "from pydantic import BaseModel\n",
    "\n",
    "class Site(BaseModel):\n",
    "    sitename:str\n",
    "    county:str\n",
    "    aqi:int\n",
    "\n",
    "#class method\n",
    "s1:Site = Site.model_validate_json(data_json)\n",
    "print(s1)\n",
    "\n",
    "#實體method\n",
    "site:dict = s1.model_dump()\n",
    "print(site)\n",
    "\n"
   ]
  },
  {
   "cell_type": "code",
   "execution_count": 9,
   "metadata": {},
   "outputs": [
    {
     "name": "stdout",
     "output_type": "stream",
     "text": [
      "sitename='屏東(枋山)' county='屏東縣' aqi=19 pm25=5\n",
      "{'sitename': '屏東(枋山)', 'county': '屏東縣', 'aqi': 19, 'pm25': 5}\n"
     ]
    }
   ],
   "source": [
    "data_json:str = '''\n",
    "{\n",
    "            \"sitename\": \"屏東(枋山)\",\n",
    "            \"county\": \"屏東縣\",\n",
    "            \"aqi\": \"19\",\n",
    "            \"pollutant\": \"\",\n",
    "            \"status\": \"良好\",\n",
    "            \"so2\": \"0.3\",\n",
    "            \"co\": \"0.14\",\n",
    "            \"o3\": \"36.2\",\n",
    "            \"o3_8hr\": \"21.2\",\n",
    "            \"pm10\": \"20\",\n",
    "            \"pm2.5\": \"5\",\n",
    "            \"no2\": \"0.8\",\n",
    "            \"nox\": \"1.2\",\n",
    "            \"no\": \"0.4\",\n",
    "            \"windspeed\": \"1.4\",\n",
    "            \"winddirec\": \"287\",\n",
    "            \"datacreationdate\": \"2024-06-09 09:00\",\n",
    "            \"unit\": \"\",\n",
    "            \"co_8hr\": \"0.2\",\n",
    "            \"pm2.5_avg\": \"4.5\",\n",
    "            \"pm10_avg\": \"17\",\n",
    "            \"so2_avg\": \"0\",\n",
    "            \"longitude\": \"120.651472\",\n",
    "            \"latitude\": \"22.260899\",\n",
    "            \"siteid\": \"313\"\n",
    "        }\n",
    "'''\n",
    "\n",
    "from pydantic import BaseModel,Field\n",
    "\n",
    "class Site(BaseModel):\n",
    "    sitename:str\n",
    "    county:str\n",
    "    aqi:int\n",
    "    pm25:int = Field(alias='pm2.5')\n",
    "\n",
    "#class method\n",
    "s1:Site = Site.model_validate_json(data_json)\n",
    "print(s1)\n",
    "\n",
    "#實體method\n",
    "site:dict = s1.model_dump()\n",
    "print(site)\n",
    "\n"
   ]
  }
 ],
 "metadata": {
  "kernelspec": {
   "display_name": "Python 3",
   "language": "python",
   "name": "python3"
  },
  "language_info": {
   "codemirror_mode": {
    "name": "ipython",
    "version": 3
   },
   "file_extension": ".py",
   "mimetype": "text/x-python",
   "name": "python",
   "nbconvert_exporter": "python",
   "pygments_lexer": "ipython3",
   "version": "3.10.14"
  }
 },
 "nbformat": 4,
 "nbformat_minor": 2
}
