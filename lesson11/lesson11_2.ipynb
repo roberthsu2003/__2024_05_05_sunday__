{
 "cells": [
  {
   "cell_type": "code",
   "execution_count": 3,
   "metadata": {},
   "outputs": [],
   "source": [
    "class Student(object):\n",
    "    def __init__(self,n:str,scores:int):\n",
    "        self.name = n\n",
    "        self.scores = scores\n",
    "\n",
    "    def __repr__(self):\n",
    "        message = \"\"\n",
    "        message += f'我的姓名是{self.name}\\n'\n",
    "        message += f'我的總分是{self.scores}'\n",
    "        return message"
   ]
  },
  {
   "cell_type": "code",
   "execution_count": 4,
   "metadata": {},
   "outputs": [
    {
     "name": "stdout",
     "output_type": "stream",
     "text": [
      "徐國堂\n",
      "279\n",
      "我的姓名是徐國堂\n",
      "我的總分是279\n"
     ]
    }
   ],
   "source": [
    "s1:Student = Student(n=\"徐國堂\",scores=279)\n",
    "print(s1.name)\n",
    "print(s1.scores)\n",
    "print(s1)"
   ]
  },
  {
   "cell_type": "code",
   "execution_count": 7,
   "metadata": {},
   "outputs": [],
   "source": [
    "from dataclasses import dataclass\n",
    "\n",
    "#dataclass會自動建立__init__,__repr__\n",
    "\n",
    "@dataclass\n",
    "class Student():\n",
    "    name:str\n",
    "    scores:int = 0\n",
    "\n"
   ]
  },
  {
   "cell_type": "code",
   "execution_count": 8,
   "metadata": {},
   "outputs": [
    {
     "name": "stdout",
     "output_type": "stream",
     "text": [
      "徐國堂\n",
      "279\n",
      "Student(name='徐國堂', scores=279)\n"
     ]
    }
   ],
   "source": [
    "#使用dataclass\n",
    "s1:Student = Student(name='徐國堂', scores=279)\n",
    "print(s1.name)\n",
    "print(s1.scores)\n",
    "print(s1)"
   ]
  },
  {
   "cell_type": "code",
   "execution_count": 9,
   "metadata": {},
   "outputs": [
    {
     "name": "stdout",
     "output_type": "stream",
     "text": [
      "robert\n",
      "0\n",
      "Student(name='robert', scores=0)\n"
     ]
    }
   ],
   "source": [
    "s2:Student = Student(\"robert\")\n",
    "print(s2.name)\n",
    "print(s2.scores)\n",
    "print(s2)"
   ]
  },
  {
   "cell_type": "code",
   "execution_count": 13,
   "metadata": {},
   "outputs": [],
   "source": [
    "#pydantic BaseModel\n",
    "from pydantic import BaseModel\n",
    "\n",
    "class Student(BaseModel):\n",
    "    name:str\n",
    "    scores:int = 0"
   ]
  },
  {
   "cell_type": "code",
   "execution_count": 14,
   "metadata": {},
   "outputs": [
    {
     "name": "stdout",
     "output_type": "stream",
     "text": [
      "徐國堂\n",
      "279\n",
      "name='徐國堂' scores=279\n"
     ]
    }
   ],
   "source": [
    "s1:Student = Student(name='徐國堂', scores=279)\n",
    "print(s1.name)\n",
    "print(s1.scores)\n",
    "print(s1)"
   ]
  },
  {
   "cell_type": "code",
   "execution_count": 16,
   "metadata": {},
   "outputs": [
    {
     "name": "stdout",
     "output_type": "stream",
     "text": [
      "robert\n",
      "0\n",
      "name='robert' scores=0\n"
     ]
    }
   ],
   "source": [
    "s2:Student = Student(name=\"robert\")\n",
    "print(s2.name)\n",
    "print(s2.scores)\n",
    "print(s2)"
   ]
  }
 ],
 "metadata": {
  "kernelspec": {
   "display_name": "Python 3",
   "language": "python",
   "name": "python3"
  },
  "language_info": {
   "codemirror_mode": {
    "name": "ipython",
    "version": 3
   },
   "file_extension": ".py",
   "mimetype": "text/x-python",
   "name": "python",
   "nbconvert_exporter": "python",
   "pygments_lexer": "ipython3",
   "version": "3.10.14"
  }
 },
 "nbformat": 4,
 "nbformat_minor": 2
}
