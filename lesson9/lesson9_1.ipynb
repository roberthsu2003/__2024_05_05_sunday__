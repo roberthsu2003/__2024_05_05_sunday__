{
 "cells": [
  {
   "cell_type": "code",
   "execution_count": 4,
   "metadata": {},
   "outputs": [],
   "source": [
    "class Bmi:\n",
    "    @classmethod\n",
    "    def cal_bmi(cls,height:int, weight:int)->float:\n",
    "        BMI = weight / (height / 100) ** 2\n",
    "        return BMI\n",
    "    \n",
    "    @classmethod\n",
    "    def get_status(cls,bmi:float)->str:\n",
    "        if bmi < 18.5:\n",
    "            rate = \"過輕\"\n",
    "        elif bmi < 24:\n",
    "            rate = \"正常\"\n",
    "        elif bmi < 27:\n",
    "            rate = \"過重\"\n",
    "        elif bmi < 30:\n",
    "            rate = \"輕度肥胖\"\n",
    "        elif bmi < 35:\n",
    "            rate = \"中度肥胖\"\n",
    "        else:\n",
    "            rate = \"重度肥胖\"\n",
    "        \n",
    "        return rate"
   ]
  },
  {
   "cell_type": "code",
   "execution_count": 5,
   "metadata": {},
   "outputs": [
    {
     "name": "stdout",
     "output_type": "stream",
     "text": [
      "請輸入您的姓名: 徐國堂\n",
      "請輸入您的身高(cm): 179\n",
      "請輸入您的體重(kg): 69\n",
      "您的姓名為 徐國堂\n",
      "您的BMI值為 21.534908398614277\n",
      "您屬於 正常 範圍\n"
     ]
    }
   ],
   "source": [
    "import pyinputplus as pypi\n",
    "\n",
    "def main()->None:\n",
    "    name = pypi.inputStr(\"請輸入您的姓名: \")\n",
    "    print(name)\n",
    "    height = pypi.inputInt(\"請輸入您的身高(cm): \", min=50, max=250)\n",
    "    print(height)\n",
    "    weight = pypi.inputInt(\"請輸入您的體重(kg): \", min=0, max=200)\n",
    "    print(weight)\n",
    "\n",
    "    BMI = Bmi.cal_bmi(height=height, weight=weight)\n",
    "    rate = Bmi.get_status(BMI)\n",
    "    print(f\"您的姓名為 {name}\\n您的BMI值為 {BMI}\\n您屬於 {rate} 範圍\")\n",
    "\n",
    "\n",
    "if __name__ == '__main__':\n",
    "    main()"
   ]
  }
 ],
 "metadata": {
  "kernelspec": {
   "display_name": "Python 3",
   "language": "python",
   "name": "python3"
  },
  "language_info": {
   "codemirror_mode": {
    "name": "ipython",
    "version": 3
   },
   "file_extension": ".py",
   "mimetype": "text/x-python",
   "name": "python",
   "nbconvert_exporter": "python",
   "pygments_lexer": "ipython3",
   "version": "3.10.14"
  }
 },
 "nbformat": 4,
 "nbformat_minor": 2
}
