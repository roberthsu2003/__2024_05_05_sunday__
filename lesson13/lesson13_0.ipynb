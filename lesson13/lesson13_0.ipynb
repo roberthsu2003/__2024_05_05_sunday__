{
 "cells": [
  {
   "cell_type": "code",
   "execution_count": 2,
   "metadata": {},
   "outputs": [
    {
     "name": "stdout",
     "output_type": "stream",
     "text": [
      "<class 'str'>\n"
     ]
    }
   ],
   "source": [
    "import requests\n",
    "from requests import Response\n",
    "youbike = 'https://tcgbusfs.blob.core.windows.net/dotapp/youbike/v2/youbike_immediate.json'\n",
    "try:\n",
    "    res:Response = requests.request('GET',youbike)\n",
    "    res.raise_for_status()\n",
    "except Exception:\n",
    "    print(\"連線出問題\")\n",
    "else:\n",
    "    print(type(res.text))"
   ]
  },
  {
   "cell_type": "code",
   "execution_count": 6,
   "metadata": {},
   "outputs": [],
   "source": [
    "from pydantic import BaseModel,RootModel,Field\n",
    "\n",
    "class UBike(BaseModel):\n",
    "    sna:str\n",
    "    sarea:str\n",
    "    mday:str\n",
    "    ar:str\n",
    "    act:bool\n",
    "    total:int\n",
    "    rents:int = Field(alias='available_rent_bikes')\n",
    "    returns:int = Field(alias='available_return_bikes')\n",
    "    lat:float = Field(alias='latitude')\n",
    "    lon:float = Field(alias='longitude')\n",
    "\n",
    "class UBikeRoot(RootModel):\n",
    "    root:list[UBike]\n",
    "\n",
    "datas:UBikeRoot = UBikeRoot.model_validate_json(res.text)\n"
   ]
  },
  {
   "cell_type": "code",
   "execution_count": 11,
   "metadata": {},
   "outputs": [
    {
     "data": {
      "text/plain": [
       "1423"
      ]
     },
     "execution_count": 11,
     "metadata": {},
     "output_type": "execute_result"
    }
   ],
   "source": [
    "youbikes = datas.model_dump()\n",
    "len(youbikes)"
   ]
  },
  {
   "cell_type": "code",
   "execution_count": 12,
   "metadata": {},
   "outputs": [
    {
     "data": {
      "text/plain": [
       "1414"
      ]
     },
     "execution_count": 12,
     "metadata": {},
     "output_type": "execute_result"
    }
   ],
   "source": [
    "youbikes_open = list(filter(lambda item:item['act'],youbikes))\n",
    "len(youbikes_open)"
   ]
  },
  {
   "cell_type": "code",
   "execution_count": 14,
   "metadata": {},
   "outputs": [
    {
     "data": {
      "text/plain": [
       "[9, 6, 5, 5, 5, 4, 3, 3, 2, 1, 1]"
      ]
     },
     "execution_count": 14,
     "metadata": {},
     "output_type": "execute_result"
    }
   ],
   "source": [
    "numbers = [3, 1, 4, 1, 5, 9, 2, 6, 5, 3, 5]\n",
    "sorted(numbers)\n",
    "sorted(numbers,reverse=True)"
   ]
  },
  {
   "cell_type": "code",
   "execution_count": 17,
   "metadata": {},
   "outputs": [
    {
     "data": {
      "text/plain": [
       "[('Alice', 25), ('Charlie', 23), ('Bob', 20)]"
      ]
     },
     "execution_count": 17,
     "metadata": {},
     "output_type": "execute_result"
    }
   ],
   "source": [
    "students = [(\"Alice\", 25), (\"Bob\", 20), (\"Charlie\", 23)]\n",
    "sorted(students,key=lambda item:item[1])\n",
    "sorted(students,key=lambda item:item[1],reverse=True)"
   ]
  },
  {
   "cell_type": "code",
   "execution_count": 22,
   "metadata": {},
   "outputs": [
    {
     "data": {
      "text/plain": [
       "[{'sna': 'YouBike2.0_捷運六張犁站',\n",
       "  'sarea': '大安區',\n",
       "  'mday': '2024-06-16 09:48:20',\n",
       "  'ar': '和平東路三段410號',\n",
       "  'act': True,\n",
       "  'total': 64,\n",
       "  'rents': 58,\n",
       "  'returns': 6,\n",
       "  'lat': 25.02397,\n",
       "  'lon': 121.55266},\n",
       " {'sna': 'YouBike2.0_松山車站',\n",
       "  'sarea': '信義區',\n",
       "  'mday': '2024-06-16 09:48:21',\n",
       "  'ar': '松山路11號南側',\n",
       "  'act': True,\n",
       "  'total': 70,\n",
       "  'rents': 58,\n",
       "  'returns': 12,\n",
       "  'lat': 25.0489,\n",
       "  'lon': 121.57841},\n",
       " {'sna': 'YouBike2.0_捷運南港展覽館站(5號出口)',\n",
       "  'sarea': '南港區',\n",
       "  'mday': '2024-06-16 09:47:20',\n",
       "  'ar': '研究院路一段1號(5號出口)',\n",
       "  'act': True,\n",
       "  'total': 73,\n",
       "  'rents': 59,\n",
       "  'returns': 14,\n",
       "  'lat': 25.05469,\n",
       "  'lon': 121.61669},\n",
       " {'sna': 'YouBike2.0_臺灣科技大學側門',\n",
       "  'sarea': '大安區',\n",
       "  'mday': '2024-06-16 09:48:21',\n",
       "  'ar': '基隆路四段73巷與基隆路口',\n",
       "  'act': True,\n",
       "  'total': 99,\n",
       "  'rents': 61,\n",
       "  'returns': 38,\n",
       "  'lat': 25.01295,\n",
       "  'lon': 121.53973},\n",
       " {'sna': 'YouBike2.0_捷運關渡站(1號出口)',\n",
       "  'sarea': '北投區',\n",
       "  'mday': '2024-06-16 09:45:22',\n",
       "  'ar': '大度路三段270巷/立功街55巷(西南側)',\n",
       "  'act': True,\n",
       "  'total': 71,\n",
       "  'rents': 64,\n",
       "  'returns': 7,\n",
       "  'lat': 25.12397,\n",
       "  'lon': 121.46712}]"
      ]
     },
     "execution_count": 22,
     "metadata": {},
     "output_type": "execute_result"
    }
   ],
   "source": [
    "youbikes_sorted = sorted(youbikes_open,key=lambda item:item['rents'])\n",
    "#可借最少數量的5個站點\n",
    "youbikes_sorted[:5]\n",
    "#可借最多數量的5個站點\n",
    "youbikes_sorted[-5:]"
   ]
  }
 ],
 "metadata": {
  "kernelspec": {
   "display_name": "Python 3",
   "language": "python",
   "name": "python3"
  },
  "language_info": {
   "codemirror_mode": {
    "name": "ipython",
    "version": 3
   },
   "file_extension": ".py",
   "mimetype": "text/x-python",
   "name": "python",
   "nbconvert_exporter": "python",
   "pygments_lexer": "ipython3",
   "version": "3.10.14"
  }
 },
 "nbformat": 4,
 "nbformat_minor": 2
}
