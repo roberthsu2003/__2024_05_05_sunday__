{
 "cells": [
  {
   "cell_type": "code",
   "execution_count": 4,
   "metadata": {},
   "outputs": [
    {
     "name": "stdout",
     "output_type": "stream",
     "text": [
      "\n",
      "1 2 4 8\n",
      "3,5,9,6 "
     ]
    }
   ],
   "source": [
    "print()\n",
    "print(1, 2, 4, 8)\n",
    "print(3, 5, 9, 6,end=' ',sep=',')"
   ]
  },
  {
   "cell_type": "code",
   "execution_count": 6,
   "metadata": {},
   "outputs": [
    {
     "name": "stdout",
     "output_type": "stream",
     "text": [
      "(1, 2, 3, 4, 5)\n",
      "1\n",
      "2\n",
      "3\n",
      "4\n",
      "5\n"
     ]
    }
   ],
   "source": [
    "#python的資料結構\n",
    "#tuple\n",
    "#建立的符號()\n",
    "#建立後,不可以修改內容\n",
    "\n",
    "t1:tuple[int] = (1, 2, 3, 4, 5)\n",
    "print(t1)\n",
    "for item in t1:\n",
    "    print(item)\n"
   ]
  }
 ],
 "metadata": {
  "kernelspec": {
   "display_name": "Python 3",
   "language": "python",
   "name": "python3"
  },
  "language_info": {
   "codemirror_mode": {
    "name": "ipython",
    "version": 3
   },
   "file_extension": ".py",
   "mimetype": "text/x-python",
   "name": "python",
   "nbconvert_exporter": "python",
   "pygments_lexer": "ipython3",
   "version": "3.10.14"
  }
 },
 "nbformat": 4,
 "nbformat_minor": 2
}
