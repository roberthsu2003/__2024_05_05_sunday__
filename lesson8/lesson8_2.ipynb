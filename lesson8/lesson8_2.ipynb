{
 "cells": [
  {
   "cell_type": "code",
   "execution_count": 3,
   "metadata": {},
   "outputs": [
    {
     "name": "stdout",
     "output_type": "stream",
     "text": [
      "酒類:白酒\n",
      "主餐:牛排\n",
      "甜點:蛋糕\n",
      "==============\n",
      "酒類:紅酒\n",
      "主餐:雞排\n",
      "甜點:冰淇淋\n"
     ]
    }
   ],
   "source": [
    "def menu(wine:str, entree:str, dessert:str)->None:\n",
    "    print(f\"酒類:{wine}\")\n",
    "    print(f\"主餐:{entree}\")\n",
    "    print(f\"甜點:{dessert}\")\n",
    "\n",
    "#引數值的呼叫\n",
    "#依照參數的順序\n",
    "\n",
    "menu('白酒','牛排','蛋糕')\n",
    "print(\"==============\")\n",
    "menu('紅酒','雞排','冰淇淋')"
   ]
  },
  {
   "cell_type": "code",
   "execution_count": 4,
   "metadata": {},
   "outputs": [
    {
     "name": "stdout",
     "output_type": "stream",
     "text": [
      "酒類:白酒\n",
      "主餐:牛排\n",
      "甜點:蛋糕\n",
      "=================\n",
      "酒類:白酒\n",
      "主餐:牛排\n",
      "甜點:蛋糕\n"
     ]
    }
   ],
   "source": [
    "def menu(wine:str, entree:str, dessert:str)->None:\n",
    "    print(f\"酒類:{wine}\")\n",
    "    print(f\"主餐:{entree}\")\n",
    "    print(f\"甜點:{dessert}\")\n",
    "\n",
    "#引數名稱的呼叫\n",
    "#可以不依照順序\n",
    "\n",
    "menu(wine='白酒',entree='牛排',dessert='蛋糕')\n",
    "print(\"=================\")\n",
    "menu(entree='牛排',dessert='蛋糕',wine='白酒')"
   ]
  },
  {
   "cell_type": "code",
   "execution_count": 5,
   "metadata": {},
   "outputs": [
    {
     "name": "stdout",
     "output_type": "stream",
     "text": [
      "酒類:白酒\n",
      "主餐:牛排\n",
      "甜點:蛋糕\n",
      "===============\n",
      "酒類:白酒\n",
      "主餐:牛排\n",
      "甜點:蛋糕\n"
     ]
    }
   ],
   "source": [
    "def menu(wine:str, entree:str, dessert:str)->None:\n",
    "    print(f\"酒類:{wine}\")\n",
    "    print(f\"主餐:{entree}\")\n",
    "    print(f\"甜點:{dessert}\")\n",
    "\n",
    "#混合呼叫\n",
    "#前面要用引數值的呼叫(依順序)\n",
    "#後面要用引數名稱的呼叫(不依順序)\n",
    "#使用引數名稱後,後面全部都要使用引數名稱\n",
    "\n",
    "menu('白酒',entree='牛排',dessert='蛋糕')\n",
    "print(\"===============\")\n",
    "menu('白酒',dessert='蛋糕',entree='牛排')"
   ]
  },
  {
   "cell_type": "code",
   "execution_count": 7,
   "metadata": {},
   "outputs": [
    {
     "name": "stdout",
     "output_type": "stream",
     "text": [
      "酒類:白酒\n",
      "主餐:牛排\n",
      "甜點:奶昔\n",
      "=================\n",
      "酒類:白酒\n",
      "主餐:牛排\n",
      "甜點:蛋糕\n"
     ]
    }
   ],
   "source": [
    "#自訂的function的參數可以有預設值\n",
    "#有預設值的參數必需放在參數的的最後面\n",
    "#沒有預設值的參數,一定要有引數\n",
    "#有預設值的參數->(optional)可以有引數,也可以沒有引數\n",
    "\n",
    "def menu(wine:str, entree:str, dessert:str='奶昔')->None:\n",
    "    print(f\"酒類:{wine}\")\n",
    "    print(f\"主餐:{entree}\")\n",
    "    print(f\"甜點:{dessert}\")\n",
    "\n",
    "menu('白酒','牛排')\n",
    "print(\"=================\")\n",
    "menu('白酒','牛排',dessert='蛋糕')"
   ]
  },
  {
   "cell_type": "code",
   "execution_count": 10,
   "metadata": {},
   "outputs": [
    {
     "name": "stdout",
     "output_type": "stream",
     "text": [
      "args是tuple:(1, 2, 'a', 'b', 'c')\n",
      "args是tuple:(1, 2, 'a', 'b', 'c', 5, 6, 9)\n",
      "args是tuple:()\n"
     ]
    }
   ],
   "source": [
    "def print_args(*args:any)->None:\n",
    "    print(f\"args是tuple:{args}\")\n",
    "\n",
    "#如果參數有*這個符號,要用引數值的呼叫,沒有限定數量\n",
    "#也可以省略\n",
    "\n",
    "print_args(1,2,'a','b','c')\n",
    "print_args(1,2,'a','b','c',5,6,9)\n",
    "print_args()"
   ]
  },
  {
   "cell_type": "code",
   "execution_count": 14,
   "metadata": {},
   "outputs": [
    {
     "name": "stdout",
     "output_type": "stream",
     "text": [
      "kwargs是dict={'one': 1, 'two': 2, 'three': 3}\n",
      "kwargs是dict={'one': 1, 'two': 2, 'three': 3, 'four': 4, 'five': 5}\n",
      "kwargs是dict={}\n"
     ]
    }
   ],
   "source": [
    "#如果參數有**這個符號,要用引數名稱的呼叫,沒有限定數量\n",
    "#也可以省略\n",
    "\n",
    "def print_kwargs(**kwargs):\n",
    "    print(f\"kwargs是dict={kwargs}\")\n",
    "\n",
    "print_kwargs(one=1,two=2,three=3)\n",
    "print_kwargs(one=1,two=2,three=3,four=4,five=5)\n",
    "print_kwargs()"
   ]
  },
  {
   "cell_type": "code",
   "execution_count": 16,
   "metadata": {},
   "outputs": [
    {
     "name": "stdout",
     "output_type": "stream",
     "text": [
      "args是tuple:(10, 9, 8, 7)\n",
      "kwargs是dict={'one': 1, 'two': 2, 'three': 3}\n",
      "args是tuple:()\n",
      "kwargs是dict={}\n"
     ]
    }
   ],
   "source": [
    "def print_args_kwargs(*args, **kwargs):\n",
    "    print(f\"args是tuple:{args}\")\n",
    "    print(f\"kwargs是dict={kwargs}\")\n",
    "\n",
    "print_args_kwargs(10,9,8,7,one=1,two=2,three=3)\n",
    "print_args_kwargs()"
   ]
  }
 ],
 "metadata": {
  "kernelspec": {
   "display_name": "Python 3",
   "language": "python",
   "name": "python3"
  },
  "language_info": {
   "codemirror_mode": {
    "name": "ipython",
    "version": 3
   },
   "file_extension": ".py",
   "mimetype": "text/x-python",
   "name": "python",
   "nbconvert_exporter": "python",
   "pygments_lexer": "ipython3",
   "version": "3.10.14"
  }
 },
 "nbformat": 4,
 "nbformat_minor": 2
}
