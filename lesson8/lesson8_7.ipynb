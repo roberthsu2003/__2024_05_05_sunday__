{
 "cells": [
  {
   "cell_type": "code",
   "execution_count": 5,
   "metadata": {},
   "outputs": [
    {
     "name": "stdout",
     "output_type": "stream",
     "text": [
      "[['robert', 89, 65, 90], ['jenny', 74, 85, 89], ['alice', 90, 68, 92]]\n",
      "['robert', 89, 65, 90]\n",
      "['jenny', 74, 85, 89]\n",
      "['alice', 90, 68, 92]\n"
     ]
    }
   ],
   "source": [
    "#巢狀結構,2維資料\n",
    "from pprint import pprint\n",
    "\n",
    "students:list[list] = [\n",
    "    [\"robert\",89,65,90],\n",
    "    [\"jenny\",74,85,89],\n",
    "    [\"alice\",90,68,92]\n",
    "]\n",
    "pprint(students)\n",
    "for student in students:\n",
    "    print(student)\n"
   ]
  },
  {
   "cell_type": "code",
   "execution_count": 6,
   "metadata": {},
   "outputs": [
    {
     "name": "stdout",
     "output_type": "stream",
     "text": [
      "[{'chinese': 89, 'english': 65, 'math': 90, 'name': 'robert'},\n",
      " {'chinese': 74, 'english': 85, 'math': 89, 'name': 'jenny'},\n",
      " {'chinese': 90, 'english': 68, 'math': 92, 'name': 'alice'}]\n",
      "{'name': 'robert', 'chinese': 89, 'english': 65, 'math': 90}\n",
      "{'name': 'jenny', 'chinese': 74, 'english': 85, 'math': 89}\n",
      "{'name': 'alice', 'chinese': 90, 'english': 68, 'math': 92}\n"
     ]
    }
   ],
   "source": [
    "#巢狀結構,2維資料\n",
    "students:list[dict] = [\n",
    "    {'name':'robert','chinese':89,'english':65,'math':90},\n",
    "    {'name':'jenny','chinese':74,'english':85,'math':89},\n",
    "    {'name':'alice','chinese':90,'english':68,'math':92}\n",
    "]\n",
    "pprint(students)\n",
    "for student in students:\n",
    "    print(student)"
   ]
  }
 ],
 "metadata": {
  "kernelspec": {
   "display_name": "Python 3",
   "language": "python",
   "name": "python3"
  },
  "language_info": {
   "codemirror_mode": {
    "name": "ipython",
    "version": 3
   },
   "file_extension": ".py",
   "mimetype": "text/x-python",
   "name": "python",
   "nbconvert_exporter": "python",
   "pygments_lexer": "ipython3",
   "version": "3.10.14"
  }
 },
 "nbformat": 4,
 "nbformat_minor": 2
}
