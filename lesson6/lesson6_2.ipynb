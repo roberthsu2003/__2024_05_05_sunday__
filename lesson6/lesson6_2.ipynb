{
 "cells": [
  {
   "cell_type": "code",
   "execution_count": 1,
   "metadata": {},
   "outputs": [
    {
     "name": "stdout",
     "output_type": "stream",
     "text": [
      "15\n"
     ]
    }
   ],
   "source": [
    "#請加總數值1~5\n",
    "\n",
    "total = 0\n",
    "total += 1\n",
    "total += 2\n",
    "total += 3\n",
    "total += 4\n",
    "total += 5\n",
    "print(total)"
   ]
  },
  {
   "cell_type": "code",
   "execution_count": 6,
   "metadata": {},
   "outputs": [
    {
     "name": "stdout",
     "output_type": "stream",
     "text": [
      "0 1 2 3 4 \n",
      "1 2 3 4 5 6 7 8 9 \n",
      "1 3 5 7 9 "
     ]
    }
   ],
   "source": [
    "for i in range(5):\n",
    "    print(i,end=' ')\n",
    "print()\n",
    "for i in range(1,10):\n",
    "    print(i,end=' ')\n",
    "print()\n",
    "for i in range(1,10,2):\n",
    "    print(i,end=' ')"
   ]
  },
  {
   "cell_type": "code",
   "execution_count": 10,
   "metadata": {},
   "outputs": [
    {
     "name": "stdout",
     "output_type": "stream",
     "text": [
      "請加總1~x的值100\n",
      "加總1~100的總值是5050\n"
     ]
    }
   ],
   "source": [
    "import pyinputplus as pypi\n",
    "\n",
    "n = pypi.inputInt(\"請加總1~x的值\",min=10,max=300)\n",
    "print(n)\n",
    "total = 0\n",
    "for i in range(1,n+1):\n",
    "    total += i\n",
    "print(f\"加總1~{n}的總值是{total}\")"
   ]
  },
  {
   "cell_type": "code",
   "execution_count": 16,
   "metadata": {},
   "outputs": [
    {
     "name": "stdout",
     "output_type": "stream",
     "text": [
      "i=1 \n",
      "j=1 j=2 j=3 j=4 j=5 j=6 j=7 j=8 j=9 \n",
      "===========\n",
      "i=2 \n",
      "j=1 j=2 j=3 j=4 j=5 j=6 j=7 j=8 j=9 \n",
      "===========\n",
      "i=3 \n",
      "j=1 j=2 j=3 j=4 j=5 j=6 j=7 j=8 j=9 \n",
      "===========\n",
      "i=4 \n",
      "j=1 j=2 j=3 j=4 j=5 j=6 j=7 j=8 j=9 \n",
      "===========\n",
      "i=5 \n",
      "j=1 j=2 j=3 j=4 j=5 j=6 j=7 j=8 j=9 \n",
      "===========\n",
      "i=6 \n",
      "j=1 j=2 j=3 j=4 j=5 j=6 j=7 j=8 j=9 \n",
      "===========\n",
      "i=7 \n",
      "j=1 j=2 j=3 j=4 j=5 j=6 j=7 j=8 j=9 \n",
      "===========\n",
      "i=8 \n",
      "j=1 j=2 j=3 j=4 j=5 j=6 j=7 j=8 j=9 \n",
      "===========\n",
      "i=9 \n",
      "j=1 j=2 j=3 j=4 j=5 j=6 j=7 j=8 j=9 \n",
      "===========\n"
     ]
    }
   ],
   "source": [
    "#巢狀迴圈\n",
    "\n",
    "for i in range(1,10):\n",
    "    print(f\"i={i}\",end=' ')\n",
    "    print()\n",
    "    for j in range(1,10):\n",
    "        print(f\"j={j}\",end=' ')\n",
    "    print(\"\\n===========\")"
   ]
  }
 ],
 "metadata": {
  "kernelspec": {
   "display_name": "Python 3",
   "language": "python",
   "name": "python3"
  },
  "language_info": {
   "codemirror_mode": {
    "name": "ipython",
    "version": 3
   },
   "file_extension": ".py",
   "mimetype": "text/x-python",
   "name": "python",
   "nbconvert_exporter": "python",
   "pygments_lexer": "ipython3",
   "version": "3.10.14"
  }
 },
 "nbformat": 4,
 "nbformat_minor": 2
}
