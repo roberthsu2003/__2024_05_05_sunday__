{
 "cells": [
  {
   "cell_type": "code",
   "execution_count": 2,
   "metadata": {},
   "outputs": [
    {
     "name": "stdout",
     "output_type": "stream",
     "text": [
      "請輸入第1月儲存的金額:10000\n",
      "請輸入第2月儲存的金額:10000\n",
      "請輸入第3月儲存的金額:10000\n",
      "您已經存了30000元,共存了3個月\n"
     ]
    }
   ],
   "source": [
    "#小明想要存錢買一輛機車,機車每輛30000元，他將每月存的錢輸入，當存款足夠買機車時，就顯示提示訊息告知。\n",
    "import pyinputplus as pyip\n",
    "\n",
    "deposit = 0\n",
    "num = 0\n",
    "while deposit < 30000:\n",
    "    num += 1\n",
    "    input_value = pyip.inputInt(f\"請輸入第{num}月儲存的金額:\")\n",
    "    print(input_value)\n",
    "    deposit += input_value\n",
    "\n",
    "print(f\"您已經存了{deposit}元,共存了{num}個月\")"
   ]
  }
 ],
 "metadata": {
  "kernelspec": {
   "display_name": "Python 3",
   "language": "python",
   "name": "python3"
  },
  "language_info": {
   "codemirror_mode": {
    "name": "ipython",
    "version": 3
   },
   "file_extension": ".py",
   "mimetype": "text/x-python",
   "name": "python",
   "nbconvert_exporter": "python",
   "pygments_lexer": "ipython3",
   "version": "3.10.14"
  }
 },
 "nbformat": 4,
 "nbformat_minor": 2
}
