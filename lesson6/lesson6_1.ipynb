{
 "cells": [
  {
   "cell_type": "code",
   "execution_count": 3,
   "metadata": {},
   "outputs": [
    {
     "name": "stdout",
     "output_type": "stream",
     "text": [
      "請輸入整數:Number must be at minimum 0.\n",
      "請輸入整數:Number must be at maximum 300.\n",
      "請輸入整數:'123a' is not an integer.\n",
      "請輸入整數:278\n"
     ]
    }
   ],
   "source": [
    "import pyinputplus as pypi\n",
    "\n",
    "value = pypi.inputInt(\"請輸入整數:\",min=0,max=300)\n",
    "print(value)"
   ]
  },
  {
   "cell_type": "code",
   "execution_count": 4,
   "metadata": {},
   "outputs": [
    {
     "name": "stdout",
     "output_type": "stream",
     "text": [
      "請輸入學生分數(最高300分):Number must be at minimum 0.\n",
      "請輸入學生分數(最高300分):Number must be at maximum 300.\n",
      "請輸入學生分數(最高300分):'123a' is not an integer.\n",
      "請輸入學生分數(最高300分):289\n",
      "學生分數是:300\n",
      "應用程式結束\n"
     ]
    }
   ],
   "source": [
    "#學生的總分為300\n",
    "#有些學生可以加分5%\n",
    "#如果加分超過300,就以300分為準\n",
    "#raise Exception()\n",
    "\n",
    "scores = pypi.inputInt(\"請輸入學生分數(最高300分):\",min=0,max=300)\n",
    "print(scores)     \n",
    "is_add = input(\"學生是否符合加分條件?(y,n)\")\n",
    "if is_add == \"y\":\n",
    "    scores *= 1.05\n",
    "    if scores > 300:\n",
    "        scores = 300\n",
    "\n",
    "print(f\"學生分數是:{round(scores,ndigits=0)}\")    \n",
    "print(\"應用程式結束\")"
   ]
  },
  {
   "cell_type": "code",
   "execution_count": 10,
   "metadata": {},
   "outputs": [
    {
     "name": "stdout",
     "output_type": "stream",
     "text": [
      "請輸入學生分數:59\n",
      "學生等級:丁\n"
     ]
    }
   ],
   "source": [
    "# 90(含)~100分為「優」\n",
    "# 80(含)~89分為「甲」\n",
    "# 70(含)~79分為「乙」\n",
    "# 60(含)~69分為「丙」\n",
    "# 0(含)~59分為「丁」\n",
    "\n",
    "score = pypi.inputInt(\"請輸入學生分數:\",min=0,max=100)\n",
    "print(score)\n",
    "if score >= 90:\n",
    "    grade = \"優\"\n",
    "else:\n",
    "    if score >= 80:\n",
    "        grade = '甲'\n",
    "    else:\n",
    "        if score >= 70:\n",
    "            grade = '乙'\n",
    "        else:\n",
    "            if score >= 60:\n",
    "                grade = '丙'\n",
    "            else:\n",
    "                grade = \"丁\"\n",
    "print(f\"學生等級:{grade}\")"
   ]
  },
  {
   "cell_type": "code",
   "execution_count": 15,
   "metadata": {},
   "outputs": [
    {
     "name": "stdout",
     "output_type": "stream",
     "text": [
      "請輸入學生分數:59\n",
      "學生等級:丁\n"
     ]
    }
   ],
   "source": [
    "# 90(含)~100分為「優」\n",
    "# 80(含)~89分為「甲」\n",
    "# 70(含)~79分為「乙」\n",
    "# 60(含)~69分為「丙」\n",
    "# 0(含)~59分為「丁」\n",
    "\n",
    "score = pypi.inputInt(\"請輸入學生分數:\",min=0,max=100)\n",
    "print(score)\n",
    "#多項選擇\n",
    "if score >= 90:\n",
    "    grade = \"優\"\n",
    "elif score >= 80:\n",
    "    grade = '甲'\n",
    "elif score >= 70:\n",
    "    grade = '乙'    \n",
    "elif score >= 60:\n",
    "    grade = '丙'\n",
    "else:\n",
    "    grade = \"丁\"\n",
    "print(f\"學生等級:{grade}\")"
   ]
  },
  {
   "cell_type": "code",
   "execution_count": 19,
   "metadata": {},
   "outputs": [
    {
     "name": "stdout",
     "output_type": "stream",
     "text": [
      "請輸入國文分數99\n",
      "請輸入數學分數99\n",
      "獎金:0\n"
     ]
    }
   ],
   "source": [
    "chinese = pypi.inputInt(\"請輸入國文分數\",min=0,max=100)\n",
    "print(chinese)\n",
    "math = pypi.inputInt(\"請輸入數學分數\",min=0,max=100)\n",
    "print(math)\n",
    "\n",
    "#2科都100分獎金1000\n",
    "#1科100分獎金500\n",
    "\n",
    "#比較嚴格的條件放在最上面\n",
    "if chinese == 100 and math == 100:\n",
    "    bonus = 1000\n",
    "elif chinese == 100 or math == 100:\n",
    "    bonus = 500\n",
    "else:\n",
    "    bonus = 0\n",
    "\n",
    "print(f\"獎金:{bonus}\")\n",
    "    "
   ]
  }
 ],
 "metadata": {
  "kernelspec": {
   "display_name": "Python 3",
   "language": "python",
   "name": "python3"
  },
  "language_info": {
   "codemirror_mode": {
    "name": "ipython",
    "version": 3
   },
   "file_extension": ".py",
   "mimetype": "text/x-python",
   "name": "python",
   "nbconvert_exporter": "python",
   "pygments_lexer": "ipython3",
   "version": "3.10.14"
  }
 },
 "nbformat": 4,
 "nbformat_minor": 2
}
