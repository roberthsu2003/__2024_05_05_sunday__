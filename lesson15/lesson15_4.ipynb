{
 "cells": [
  {
   "cell_type": "code",
   "execution_count": 6,
   "metadata": {},
   "outputs": [
    {
     "data": {
      "text/plain": [
       "array([[ 83,  83,  78,  63,  64],\n",
       "       [ 94, 100,  67,  80,  64],\n",
       "       [ 98,  82,  79,  64,  87],\n",
       "       [ 76,  50,  91,  52,  60],\n",
       "       [ 62,  53,  86,  79,  59],\n",
       "       [ 95,  79,  54,  50,  92],\n",
       "       [ 53,  93,  92,  81,  62],\n",
       "       [ 51,  86,  51,  93,  63],\n",
       "       [ 69,  63,  54,  52,  61],\n",
       "       [ 85,  86,  58,  96,  65],\n",
       "       [ 52,  61,  82,  78,  95],\n",
       "       [ 90,  83,  72,  74,  64],\n",
       "       [ 69,  68,  99,  73,  51],\n",
       "       [ 73,  76,  87,  83,  64],\n",
       "       [ 89,  61,  52,  59,  75],\n",
       "       [ 91,  56,  96,  84,  78],\n",
       "       [ 84,  69,  65,  96,  81],\n",
       "       [ 57,  93,  55,  66,  88],\n",
       "       [ 53,  77,  80,  80,  98],\n",
       "       [ 64,  50,  63,  95,  79],\n",
       "       [ 94,  79,  81,  85,  94],\n",
       "       [ 87,  81,  70,  56,  76],\n",
       "       [ 92,  94,  99,  70,  91],\n",
       "       [ 57,  54,  96,  70,  82],\n",
       "       [ 69,  99,  56,  99,  86],\n",
       "       [ 90,  50,  73,  61,  98],\n",
       "       [ 95,  74,  87,  71,  73],\n",
       "       [ 96,  75,  87,  62,  63],\n",
       "       [ 87,  87,  51,  96,  76],\n",
       "       [ 51,  64,  83,  91,  86],\n",
       "       [ 75,  51,  56,  96,  59],\n",
       "       [ 60,  92,  64,  87,  73],\n",
       "       [ 86,  75,  91,  69,  99],\n",
       "       [ 65,  84,  96,  89,  99],\n",
       "       [ 61,  76,  93,  68,  56],\n",
       "       [ 95,  62,  90,  99,  83],\n",
       "       [ 58,  62,  71,  78,  79],\n",
       "       [ 73,  50,  95,  71,  50],\n",
       "       [ 92,  85,  58,  97,  91],\n",
       "       [ 59,  84,  86,  80,  77],\n",
       "       [ 60,  77,  65,  99,  60],\n",
       "       [ 55,  66,  78,  51,  52],\n",
       "       [ 55,  61,  62,  73,  84],\n",
       "       [ 77,  92,  71,  94,  78],\n",
       "       [ 87,  67,  56,  51,  95],\n",
       "       [ 60,  51,  71,  61,  90],\n",
       "       [ 56,  62,  90,  76,  61],\n",
       "       [ 69,  74,  54,  91,  74],\n",
       "       [ 59,  75,  64,  60,  98],\n",
       "       [ 57,  94,  57,  84,  98]])"
      ]
     },
     "execution_count": 6,
     "metadata": {},
     "output_type": "execute_result"
    }
   ],
   "source": [
    "import numpy as np\n",
    "students = np.random.randint(50,101,size=(50,5))\n",
    "students"
   ]
  },
  {
   "cell_type": "code",
   "execution_count": 13,
   "metadata": {},
   "outputs": [
    {
     "data": {
      "text/plain": [
       "array([[60, 51, 71, 61, 90],\n",
       "       [56, 62, 90, 76, 61],\n",
       "       [69, 74, 54, 91, 74],\n",
       "       [59, 75, 64, 60, 98],\n",
       "       [57, 94, 57, 84, 98]])"
      ]
     },
     "execution_count": 13,
     "metadata": {},
     "output_type": "execute_result"
    }
   ],
   "source": [
    "students[0,0]\n",
    "students[:1,:]\n",
    "students[:1] #前一個學生\n",
    "students[:2] #前2個學生\n",
    "students[-5:] #最後5個學生"
   ]
  },
  {
   "cell_type": "code",
   "execution_count": 16,
   "metadata": {},
   "outputs": [
    {
     "data": {
      "text/plain": [
       "array([64, 64, 87, 60, 59, 92, 62, 63, 61, 65, 95, 64, 51, 64, 75, 78, 81,\n",
       "       88, 98, 79, 94, 76, 91, 82, 86, 98, 73, 63, 76, 86, 59, 73, 99, 99,\n",
       "       56, 83, 79, 50, 91, 77, 60, 52, 84, 78, 95, 90, 61, 74, 98, 98])"
      ]
     },
     "execution_count": 16,
     "metadata": {},
     "output_type": "execute_result"
    }
   ],
   "source": [
    "students[:,0] #第一科所有分數\n",
    "students[:,-1] #最後一科所有分數"
   ]
  },
  {
   "cell_type": "code",
   "execution_count": 22,
   "metadata": {},
   "outputs": [
    {
     "data": {
      "text/plain": [
       "array([71. , 75. , 72.5, 78. , 77.5])"
      ]
     },
     "execution_count": 22,
     "metadata": {},
     "output_type": "execute_result"
    }
   ],
   "source": [
    "np.sum(students[:1]) #第一個學生總分\n",
    "np.sum(students[:2],axis=1) #前2個學生的總分 \n",
    "np.sum(students,axis=1) #全班每位學生的總分\n",
    "np.mean(students,axis=0) #每一科全班的平均\n",
    "np.median(students,axis=0) #每一科全班的中位數"
   ]
  }
 ],
 "metadata": {
  "kernelspec": {
   "display_name": "Python 3",
   "language": "python",
   "name": "python3"
  },
  "language_info": {
   "codemirror_mode": {
    "name": "ipython",
    "version": 3
   },
   "file_extension": ".py",
   "mimetype": "text/x-python",
   "name": "python",
   "nbconvert_exporter": "python",
   "pygments_lexer": "ipython3",
   "version": "3.10.14"
  }
 },
 "nbformat": 4,
 "nbformat_minor": 2
}
