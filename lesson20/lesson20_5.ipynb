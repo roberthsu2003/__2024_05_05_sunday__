{
 "cells": [
  {
   "cell_type": "code",
   "execution_count": 3,
   "metadata": {},
   "outputs": [
    {
     "data": {
      "text/plain": [
       "日期          車站名稱  人數  \n",
       "2019-04-23  基隆    進站人數    8442\n",
       "                  出站人數    7743\n",
       "            鎮安    進站人數      15\n",
       "                  出站人數      14\n",
       "            林邊    進站人數     368\n",
       "                          ... \n",
       "2023-12-31  花壇    出站人數    1532\n",
       "            潭子    進站人數    3517\n",
       "                  出站人數    3091\n",
       "            瑞穗    進站人數     811\n",
       "                  出站人數    1053\n",
       "Length: 813522, dtype: int64"
      ]
     },
     "execution_count": 3,
     "metadata": {},
     "output_type": "execute_result"
    }
   ],
   "source": [
    "import pandas as pd\n",
    "df1 = pd.read_csv('2019~2023進出站人口數.csv',index_col='日期',usecols=['日期','車站名稱','進站人數','出站人數'])\n",
    "df2 = df1.reset_index().set_index(keys=['日期','車站名稱'])\n",
    "df2.columns.name = \"人數\"\n",
    "s1 = df2.stack(level='人數')\n",
    "s1"
   ]
  },
  {
   "cell_type": "code",
   "execution_count": 9,
   "metadata": {},
   "outputs": [
    {
     "data": {
      "text/plain": [
       "日期          車站名稱  人數  \n",
       "2019-04-23  基隆    進站人數    8442\n",
       "                  出站人數    7743\n",
       "            鎮安    進站人數      15\n",
       "                  出站人數      14\n",
       "            林邊    進站人數     368\n",
       "                          ... \n",
       "2019-04-30  精武    出站人數     831\n",
       "            太原    進站人數    2605\n",
       "                  出站人數    2692\n",
       "            烏日    進站人數     758\n",
       "                  出站人數     734\n",
       "Length: 3808, dtype: int64"
      ]
     },
     "execution_count": 9,
     "metadata": {},
     "output_type": "execute_result"
    }
   ],
   "source": [
    "s2 = s1['2019-04-23':'2019-04-30']\n",
    "s2"
   ]
  },
  {
   "cell_type": "code",
   "execution_count": 10,
   "metadata": {},
   "outputs": [
    {
     "data": {
      "text/plain": [
       "日期          人數  \n",
       "2019-04-23  出站人數    576421\n",
       "            進站人數    576421\n",
       "2019-04-24  出站人數    574879\n",
       "            進站人數    574879\n",
       "2019-04-25  出站人數    577489\n",
       "            進站人數    577489\n",
       "2019-04-26  出站人數    755942\n",
       "            進站人數    755942\n",
       "2019-04-27  出站人數    718142\n",
       "            進站人數    718142\n",
       "2019-04-28  出站人數    761546\n",
       "            進站人數    761546\n",
       "2019-04-29  出站人數    619966\n",
       "            進站人數    619966\n",
       "2019-04-30  出站人數    586014\n",
       "            進站人數    586014\n",
       "dtype: int64"
      ]
     },
     "execution_count": 10,
     "metadata": {},
     "output_type": "execute_result"
    }
   ],
   "source": [
    "#2019-04-23~2019-04-30,每日進出的人口數\n",
    "s2.groupby(level=['日期','人數']).sum()"
   ]
  },
  {
   "cell_type": "code",
   "execution_count": 12,
   "metadata": {},
   "outputs": [
    {
     "data": {
      "text/html": [
       "<div>\n",
       "<style scoped>\n",
       "    .dataframe tbody tr th:only-of-type {\n",
       "        vertical-align: middle;\n",
       "    }\n",
       "\n",
       "    .dataframe tbody tr th {\n",
       "        vertical-align: top;\n",
       "    }\n",
       "\n",
       "    .dataframe thead th {\n",
       "        text-align: right;\n",
       "    }\n",
       "</style>\n",
       "<table border=\"1\" class=\"dataframe\">\n",
       "  <thead>\n",
       "    <tr style=\"text-align: right;\">\n",
       "      <th>人數</th>\n",
       "      <th>出站人數</th>\n",
       "      <th>進站人數</th>\n",
       "    </tr>\n",
       "    <tr>\n",
       "      <th>車站名稱</th>\n",
       "      <th></th>\n",
       "      <th></th>\n",
       "    </tr>\n",
       "  </thead>\n",
       "  <tbody>\n",
       "    <tr>\n",
       "      <th>七堵</th>\n",
       "      <td>47817</td>\n",
       "      <td>46711</td>\n",
       "    </tr>\n",
       "    <tr>\n",
       "      <th>三坑</th>\n",
       "      <td>10838</td>\n",
       "      <td>10747</td>\n",
       "    </tr>\n",
       "    <tr>\n",
       "      <th>三塊厝</th>\n",
       "      <td>3182</td>\n",
       "      <td>2979</td>\n",
       "    </tr>\n",
       "    <tr>\n",
       "      <th>三姓橋</th>\n",
       "      <td>8651</td>\n",
       "      <td>9768</td>\n",
       "    </tr>\n",
       "    <tr>\n",
       "      <th>三民</th>\n",
       "      <td>80</td>\n",
       "      <td>86</td>\n",
       "    </tr>\n",
       "    <tr>\n",
       "      <th>...</th>\n",
       "      <td>...</td>\n",
       "      <td>...</td>\n",
       "    </tr>\n",
       "    <tr>\n",
       "      <th>鼓山</th>\n",
       "      <td>1581</td>\n",
       "      <td>1530</td>\n",
       "    </tr>\n",
       "    <tr>\n",
       "      <th>龍井</th>\n",
       "      <td>3406</td>\n",
       "      <td>3376</td>\n",
       "    </tr>\n",
       "    <tr>\n",
       "      <th>龍泉</th>\n",
       "      <td>150</td>\n",
       "      <td>120</td>\n",
       "    </tr>\n",
       "    <tr>\n",
       "      <th>龍港</th>\n",
       "      <td>193</td>\n",
       "      <td>193</td>\n",
       "    </tr>\n",
       "    <tr>\n",
       "      <th>龜山</th>\n",
       "      <td>828</td>\n",
       "      <td>852</td>\n",
       "    </tr>\n",
       "  </tbody>\n",
       "</table>\n",
       "<p>239 rows × 2 columns</p>\n",
       "</div>"
      ],
      "text/plain": [
       "人數     出站人數   進站人數\n",
       "車站名稱              \n",
       "七堵    47817  46711\n",
       "三坑    10838  10747\n",
       "三塊厝    3182   2979\n",
       "三姓橋    8651   9768\n",
       "三民       80     86\n",
       "...     ...    ...\n",
       "鼓山     1581   1530\n",
       "龍井     3406   3376\n",
       "龍泉      150    120\n",
       "龍港      193    193\n",
       "龜山      828    852\n",
       "\n",
       "[239 rows x 2 columns]"
      ]
     },
     "execution_count": 12,
     "metadata": {},
     "output_type": "execute_result"
    }
   ],
   "source": [
    "#2019-04-23~2019-04-30,每日進出的人口數\n",
    "s2.groupby(level=['車站名稱','人數']).sum().unstack(level='人數')"
   ]
  },
  {
   "cell_type": "code",
   "execution_count": null,
   "metadata": {},
   "outputs": [],
   "source": []
  }
 ],
 "metadata": {
  "kernelspec": {
   "display_name": "Python 3",
   "language": "python",
   "name": "python3"
  },
  "language_info": {
   "codemirror_mode": {
    "name": "ipython",
    "version": 3
   },
   "file_extension": ".py",
   "mimetype": "text/x-python",
   "name": "python",
   "nbconvert_exporter": "python",
   "pygments_lexer": "ipython3",
   "version": "3.10.14"
  }
 },
 "nbformat": 4,
 "nbformat_minor": 2
}
